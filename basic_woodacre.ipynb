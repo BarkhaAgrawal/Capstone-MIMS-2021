{
 "cells": [
  {
   "cell_type": "code",
   "execution_count": 6,
   "id": "3816e78a",
   "metadata": {},
   "outputs": [
    {
     "name": "stdout",
     "output_type": "stream",
     "text": [
      "log file created\n"
     ]
    },
    {
     "ename": "FileNotFoundError",
     "evalue": "[Errno 2] No such file or directory: '/network_inputs/osm_nodes_woodacre.csv'",
     "output_type": "error",
     "traceback": [
      "\u001b[0;31m---------------------------------------------------------------------------\u001b[0m",
      "\u001b[0;31mFileNotFoundError\u001b[0m                         Traceback (most recent call last)",
      "\u001b[0;32m<ipython-input-6-48ca2f26a2ef>\u001b[0m in \u001b[0;36m<module>\u001b[0;34m\u001b[0m\n\u001b[1;32m    228\u001b[0m \u001b[0;34m\u001b[0m\u001b[0m\n\u001b[1;32m    229\u001b[0m \u001b[0;34m\u001b[0m\u001b[0m\n\u001b[0;32m--> 230\u001b[0;31m \u001b[0mnetwork\u001b[0m\u001b[0;34m,\u001b[0m \u001b[0mcheck_traffic_flow_links\u001b[0m\u001b[0;34m,\u001b[0m \u001b[0mscen_nm\u001b[0m\u001b[0;34m,\u001b[0m \u001b[0msimulation_outputs\u001b[0m \u001b[0;34m=\u001b[0m \u001b[0mpreparation\u001b[0m\u001b[0;34m(\u001b[0m\u001b[0mdept_time_col\u001b[0m\u001b[0;34m=\u001b[0m\u001b[0;34m'dept_time_scen_1'\u001b[0m\u001b[0;34m)\u001b[0m\u001b[0;34m\u001b[0m\u001b[0;34m\u001b[0m\u001b[0m\n\u001b[0m\u001b[1;32m    231\u001b[0m \u001b[0;31m# print(network.links)\u001b[0m\u001b[0;34m\u001b[0m\u001b[0;34m\u001b[0m\u001b[0;34m\u001b[0m\u001b[0m\n\u001b[1;32m    232\u001b[0m \u001b[0;32mfor\u001b[0m \u001b[0mt\u001b[0m \u001b[0;32min\u001b[0m \u001b[0mrange\u001b[0m\u001b[0;34m(\u001b[0m\u001b[0;36m0\u001b[0m\u001b[0;34m,\u001b[0m \u001b[0;36m3600\u001b[0m\u001b[0;34m+\u001b[0m\u001b[0;36m1\u001b[0m\u001b[0;34m)\u001b[0m\u001b[0;34m:\u001b[0m\u001b[0;34m\u001b[0m\u001b[0;34m\u001b[0m\u001b[0m\n",
      "\u001b[0;32m<ipython-input-6-48ca2f26a2ef>\u001b[0m in \u001b[0;36mpreparation\u001b[0;34m(dept_time_col, dept_time_id)\u001b[0m\n\u001b[1;32m    209\u001b[0m     \u001b[0;31m### network\u001b[0m\u001b[0;34m\u001b[0m\u001b[0;34m\u001b[0m\u001b[0;34m\u001b[0m\u001b[0m\n\u001b[1;32m    210\u001b[0m     \u001b[0mnetwork\u001b[0m \u001b[0;34m=\u001b[0m \u001b[0mNetwork\u001b[0m\u001b[0;34m(\u001b[0m\u001b[0;34m)\u001b[0m\u001b[0;34m\u001b[0m\u001b[0;34m\u001b[0m\u001b[0m\n\u001b[0;32m--> 211\u001b[0;31m     \u001b[0mnetwork\u001b[0m\u001b[0;34m.\u001b[0m\u001b[0mdataframe_to_network\u001b[0m\u001b[0;34m(\u001b[0m\u001b[0mnetwork_file_edges\u001b[0m \u001b[0;34m=\u001b[0m \u001b[0mnetwork_file_edges\u001b[0m\u001b[0;34m,\u001b[0m \u001b[0mnetwork_file_nodes\u001b[0m \u001b[0;34m=\u001b[0m \u001b[0mnetwork_file_nodes\u001b[0m\u001b[0;34m)\u001b[0m\u001b[0;34m\u001b[0m\u001b[0;34m\u001b[0m\u001b[0m\n\u001b[0m\u001b[1;32m    212\u001b[0m     \u001b[0mnetwork\u001b[0m\u001b[0;34m.\u001b[0m\u001b[0madd_connectivity\u001b[0m\u001b[0;34m(\u001b[0m\u001b[0;34m)\u001b[0m\u001b[0;34m\u001b[0m\u001b[0;34m\u001b[0m\u001b[0m\n\u001b[1;32m    213\u001b[0m \u001b[0;34m\u001b[0m\u001b[0m\n",
      "\u001b[0;32m~/Documents/UCB/Spring 2021/Capstone/Capstone/projects/woodacre_civic/queue_class.py\u001b[0m in \u001b[0;36mdataframe_to_network\u001b[0;34m(self, project_location, network_file_edges, network_file_nodes, cf_files, special_nodes, scen_nm)\u001b[0m\n\u001b[1;32m     36\u001b[0m     \u001b[0;32mdef\u001b[0m \u001b[0mdataframe_to_network\u001b[0m\u001b[0;34m(\u001b[0m\u001b[0mself\u001b[0m\u001b[0;34m,\u001b[0m \u001b[0mproject_location\u001b[0m\u001b[0;34m=\u001b[0m\u001b[0;32mNone\u001b[0m\u001b[0;34m,\u001b[0m \u001b[0mnetwork_file_edges\u001b[0m\u001b[0;34m=\u001b[0m\u001b[0;32mNone\u001b[0m\u001b[0;34m,\u001b[0m \u001b[0mnetwork_file_nodes\u001b[0m\u001b[0;34m=\u001b[0m\u001b[0;32mNone\u001b[0m\u001b[0;34m,\u001b[0m \u001b[0mcf_files\u001b[0m \u001b[0;34m=\u001b[0m \u001b[0;32mNone\u001b[0m\u001b[0;34m,\u001b[0m \u001b[0mspecial_nodes\u001b[0m\u001b[0;34m=\u001b[0m\u001b[0;32mNone\u001b[0m\u001b[0;34m,\u001b[0m \u001b[0mscen_nm\u001b[0m\u001b[0;34m=\u001b[0m\u001b[0;32mNone\u001b[0m\u001b[0;34m)\u001b[0m\u001b[0;34m:\u001b[0m\u001b[0;34m\u001b[0m\u001b[0;34m\u001b[0m\u001b[0m\n\u001b[1;32m     37\u001b[0m         \u001b[0;31m# nodes\u001b[0m\u001b[0;34m\u001b[0m\u001b[0;34m\u001b[0m\u001b[0;34m\u001b[0m\u001b[0m\n\u001b[0;32m---> 38\u001b[0;31m             \u001b[0mnodes_df\u001b[0m \u001b[0;34m=\u001b[0m \u001b[0mpd\u001b[0m\u001b[0;34m.\u001b[0m\u001b[0mread_csv\u001b[0m\u001b[0;34m(\u001b[0m\u001b[0mabs_path\u001b[0m \u001b[0;34m+\u001b[0m \u001b[0mnetwork_file_nodes\u001b[0m\u001b[0;34m)\u001b[0m\u001b[0;34m\u001b[0m\u001b[0;34m\u001b[0m\u001b[0m\n\u001b[0m\u001b[1;32m     39\u001b[0m             \u001b[0mnodes_df\u001b[0m \u001b[0;34m=\u001b[0m \u001b[0mgpd\u001b[0m\u001b[0;34m.\u001b[0m\u001b[0mGeoDataFrame\u001b[0m\u001b[0;34m(\u001b[0m\u001b[0mnodes_df\u001b[0m\u001b[0;34m,\u001b[0m \u001b[0mcrs\u001b[0m\u001b[0;34m=\u001b[0m\u001b[0;34m'epsg:4326'\u001b[0m\u001b[0;34m,\u001b[0m \u001b[0mgeometry\u001b[0m\u001b[0;34m=\u001b[0m\u001b[0;34m[\u001b[0m\u001b[0mPoint\u001b[0m\u001b[0;34m(\u001b[0m\u001b[0mx\u001b[0m\u001b[0;34m,\u001b[0m \u001b[0my\u001b[0m\u001b[0;34m)\u001b[0m \u001b[0;32mfor\u001b[0m \u001b[0;34m(\u001b[0m\u001b[0mx\u001b[0m\u001b[0;34m,\u001b[0m \u001b[0my\u001b[0m\u001b[0;34m)\u001b[0m \u001b[0;32min\u001b[0m \u001b[0mzip\u001b[0m\u001b[0;34m(\u001b[0m\u001b[0mnodes_df\u001b[0m\u001b[0;34m.\u001b[0m\u001b[0mlon\u001b[0m\u001b[0;34m,\u001b[0m \u001b[0mnodes_df\u001b[0m\u001b[0;34m.\u001b[0m\u001b[0mlat\u001b[0m\u001b[0;34m)\u001b[0m\u001b[0;34m]\u001b[0m\u001b[0;34m)\u001b[0m\u001b[0;34m.\u001b[0m\u001b[0mto_crs\u001b[0m\u001b[0;34m(\u001b[0m\u001b[0;34m'epsg:26910'\u001b[0m\u001b[0;34m)\u001b[0m\u001b[0;34m\u001b[0m\u001b[0;34m\u001b[0m\u001b[0m\n\u001b[1;32m     40\u001b[0m             \u001b[0mnodes_df\u001b[0m\u001b[0;34m[\u001b[0m\u001b[0;34m'x'\u001b[0m\u001b[0;34m]\u001b[0m \u001b[0;34m=\u001b[0m \u001b[0mnodes_df\u001b[0m\u001b[0;34m[\u001b[0m\u001b[0;34m'geometry'\u001b[0m\u001b[0;34m]\u001b[0m\u001b[0;34m.\u001b[0m\u001b[0mapply\u001b[0m\u001b[0;34m(\u001b[0m\u001b[0;32mlambda\u001b[0m \u001b[0mx\u001b[0m\u001b[0;34m:\u001b[0m \u001b[0mx\u001b[0m\u001b[0;34m.\u001b[0m\u001b[0mx\u001b[0m\u001b[0;34m)\u001b[0m\u001b[0;34m\u001b[0m\u001b[0;34m\u001b[0m\u001b[0m\n",
      "\u001b[0;32m~/opt/anaconda3/envs/capstone/lib/python3.8/site-packages/pandas/io/parsers.py\u001b[0m in \u001b[0;36mread_csv\u001b[0;34m(filepath_or_buffer, sep, delimiter, header, names, index_col, usecols, squeeze, prefix, mangle_dupe_cols, dtype, engine, converters, true_values, false_values, skipinitialspace, skiprows, skipfooter, nrows, na_values, keep_default_na, na_filter, verbose, skip_blank_lines, parse_dates, infer_datetime_format, keep_date_col, date_parser, dayfirst, cache_dates, iterator, chunksize, compression, thousands, decimal, lineterminator, quotechar, quoting, doublequote, escapechar, comment, encoding, dialect, error_bad_lines, warn_bad_lines, delim_whitespace, low_memory, memory_map, float_precision, storage_options)\u001b[0m\n\u001b[1;32m    608\u001b[0m     \u001b[0mkwds\u001b[0m\u001b[0;34m.\u001b[0m\u001b[0mupdate\u001b[0m\u001b[0;34m(\u001b[0m\u001b[0mkwds_defaults\u001b[0m\u001b[0;34m)\u001b[0m\u001b[0;34m\u001b[0m\u001b[0;34m\u001b[0m\u001b[0m\n\u001b[1;32m    609\u001b[0m \u001b[0;34m\u001b[0m\u001b[0m\n\u001b[0;32m--> 610\u001b[0;31m     \u001b[0;32mreturn\u001b[0m \u001b[0m_read\u001b[0m\u001b[0;34m(\u001b[0m\u001b[0mfilepath_or_buffer\u001b[0m\u001b[0;34m,\u001b[0m \u001b[0mkwds\u001b[0m\u001b[0;34m)\u001b[0m\u001b[0;34m\u001b[0m\u001b[0;34m\u001b[0m\u001b[0m\n\u001b[0m\u001b[1;32m    611\u001b[0m \u001b[0;34m\u001b[0m\u001b[0m\n\u001b[1;32m    612\u001b[0m \u001b[0;34m\u001b[0m\u001b[0m\n",
      "\u001b[0;32m~/opt/anaconda3/envs/capstone/lib/python3.8/site-packages/pandas/io/parsers.py\u001b[0m in \u001b[0;36m_read\u001b[0;34m(filepath_or_buffer, kwds)\u001b[0m\n\u001b[1;32m    460\u001b[0m \u001b[0;34m\u001b[0m\u001b[0m\n\u001b[1;32m    461\u001b[0m     \u001b[0;31m# Create the parser.\u001b[0m\u001b[0;34m\u001b[0m\u001b[0;34m\u001b[0m\u001b[0;34m\u001b[0m\u001b[0m\n\u001b[0;32m--> 462\u001b[0;31m     \u001b[0mparser\u001b[0m \u001b[0;34m=\u001b[0m \u001b[0mTextFileReader\u001b[0m\u001b[0;34m(\u001b[0m\u001b[0mfilepath_or_buffer\u001b[0m\u001b[0;34m,\u001b[0m \u001b[0;34m**\u001b[0m\u001b[0mkwds\u001b[0m\u001b[0;34m)\u001b[0m\u001b[0;34m\u001b[0m\u001b[0;34m\u001b[0m\u001b[0m\n\u001b[0m\u001b[1;32m    463\u001b[0m \u001b[0;34m\u001b[0m\u001b[0m\n\u001b[1;32m    464\u001b[0m     \u001b[0;32mif\u001b[0m \u001b[0mchunksize\u001b[0m \u001b[0;32mor\u001b[0m \u001b[0miterator\u001b[0m\u001b[0;34m:\u001b[0m\u001b[0;34m\u001b[0m\u001b[0;34m\u001b[0m\u001b[0m\n",
      "\u001b[0;32m~/opt/anaconda3/envs/capstone/lib/python3.8/site-packages/pandas/io/parsers.py\u001b[0m in \u001b[0;36m__init__\u001b[0;34m(self, f, engine, **kwds)\u001b[0m\n\u001b[1;32m    817\u001b[0m             \u001b[0mself\u001b[0m\u001b[0;34m.\u001b[0m\u001b[0moptions\u001b[0m\u001b[0;34m[\u001b[0m\u001b[0;34m\"has_index_names\"\u001b[0m\u001b[0;34m]\u001b[0m \u001b[0;34m=\u001b[0m \u001b[0mkwds\u001b[0m\u001b[0;34m[\u001b[0m\u001b[0;34m\"has_index_names\"\u001b[0m\u001b[0;34m]\u001b[0m\u001b[0;34m\u001b[0m\u001b[0;34m\u001b[0m\u001b[0m\n\u001b[1;32m    818\u001b[0m \u001b[0;34m\u001b[0m\u001b[0m\n\u001b[0;32m--> 819\u001b[0;31m         \u001b[0mself\u001b[0m\u001b[0;34m.\u001b[0m\u001b[0m_engine\u001b[0m \u001b[0;34m=\u001b[0m \u001b[0mself\u001b[0m\u001b[0;34m.\u001b[0m\u001b[0m_make_engine\u001b[0m\u001b[0;34m(\u001b[0m\u001b[0mself\u001b[0m\u001b[0;34m.\u001b[0m\u001b[0mengine\u001b[0m\u001b[0;34m)\u001b[0m\u001b[0;34m\u001b[0m\u001b[0;34m\u001b[0m\u001b[0m\n\u001b[0m\u001b[1;32m    820\u001b[0m \u001b[0;34m\u001b[0m\u001b[0m\n\u001b[1;32m    821\u001b[0m     \u001b[0;32mdef\u001b[0m \u001b[0mclose\u001b[0m\u001b[0;34m(\u001b[0m\u001b[0mself\u001b[0m\u001b[0;34m)\u001b[0m\u001b[0;34m:\u001b[0m\u001b[0;34m\u001b[0m\u001b[0;34m\u001b[0m\u001b[0m\n",
      "\u001b[0;32m~/opt/anaconda3/envs/capstone/lib/python3.8/site-packages/pandas/io/parsers.py\u001b[0m in \u001b[0;36m_make_engine\u001b[0;34m(self, engine)\u001b[0m\n\u001b[1;32m   1048\u001b[0m             )\n\u001b[1;32m   1049\u001b[0m         \u001b[0;31m# error: Too many arguments for \"ParserBase\"\u001b[0m\u001b[0;34m\u001b[0m\u001b[0;34m\u001b[0m\u001b[0;34m\u001b[0m\u001b[0m\n\u001b[0;32m-> 1050\u001b[0;31m         \u001b[0;32mreturn\u001b[0m \u001b[0mmapping\u001b[0m\u001b[0;34m[\u001b[0m\u001b[0mengine\u001b[0m\u001b[0;34m]\u001b[0m\u001b[0;34m(\u001b[0m\u001b[0mself\u001b[0m\u001b[0;34m.\u001b[0m\u001b[0mf\u001b[0m\u001b[0;34m,\u001b[0m \u001b[0;34m**\u001b[0m\u001b[0mself\u001b[0m\u001b[0;34m.\u001b[0m\u001b[0moptions\u001b[0m\u001b[0;34m)\u001b[0m  \u001b[0;31m# type: ignore[call-arg]\u001b[0m\u001b[0;34m\u001b[0m\u001b[0;34m\u001b[0m\u001b[0m\n\u001b[0m\u001b[1;32m   1051\u001b[0m \u001b[0;34m\u001b[0m\u001b[0m\n\u001b[1;32m   1052\u001b[0m     \u001b[0;32mdef\u001b[0m \u001b[0m_failover_to_python\u001b[0m\u001b[0;34m(\u001b[0m\u001b[0mself\u001b[0m\u001b[0;34m)\u001b[0m\u001b[0;34m:\u001b[0m\u001b[0;34m\u001b[0m\u001b[0;34m\u001b[0m\u001b[0m\n",
      "\u001b[0;32m~/opt/anaconda3/envs/capstone/lib/python3.8/site-packages/pandas/io/parsers.py\u001b[0m in \u001b[0;36m__init__\u001b[0;34m(self, src, **kwds)\u001b[0m\n\u001b[1;32m   1865\u001b[0m \u001b[0;34m\u001b[0m\u001b[0m\n\u001b[1;32m   1866\u001b[0m         \u001b[0;31m# open handles\u001b[0m\u001b[0;34m\u001b[0m\u001b[0;34m\u001b[0m\u001b[0;34m\u001b[0m\u001b[0m\n\u001b[0;32m-> 1867\u001b[0;31m         \u001b[0mself\u001b[0m\u001b[0;34m.\u001b[0m\u001b[0m_open_handles\u001b[0m\u001b[0;34m(\u001b[0m\u001b[0msrc\u001b[0m\u001b[0;34m,\u001b[0m \u001b[0mkwds\u001b[0m\u001b[0;34m)\u001b[0m\u001b[0;34m\u001b[0m\u001b[0;34m\u001b[0m\u001b[0m\n\u001b[0m\u001b[1;32m   1868\u001b[0m         \u001b[0;32massert\u001b[0m \u001b[0mself\u001b[0m\u001b[0;34m.\u001b[0m\u001b[0mhandles\u001b[0m \u001b[0;32mis\u001b[0m \u001b[0;32mnot\u001b[0m \u001b[0;32mNone\u001b[0m\u001b[0;34m\u001b[0m\u001b[0;34m\u001b[0m\u001b[0m\n\u001b[1;32m   1869\u001b[0m         \u001b[0;32mfor\u001b[0m \u001b[0mkey\u001b[0m \u001b[0;32min\u001b[0m \u001b[0;34m(\u001b[0m\u001b[0;34m\"storage_options\"\u001b[0m\u001b[0;34m,\u001b[0m \u001b[0;34m\"encoding\"\u001b[0m\u001b[0;34m,\u001b[0m \u001b[0;34m\"memory_map\"\u001b[0m\u001b[0;34m,\u001b[0m \u001b[0;34m\"compression\"\u001b[0m\u001b[0;34m)\u001b[0m\u001b[0;34m:\u001b[0m\u001b[0;34m\u001b[0m\u001b[0;34m\u001b[0m\u001b[0m\n",
      "\u001b[0;32m~/opt/anaconda3/envs/capstone/lib/python3.8/site-packages/pandas/io/parsers.py\u001b[0m in \u001b[0;36m_open_handles\u001b[0;34m(self, src, kwds)\u001b[0m\n\u001b[1;32m   1360\u001b[0m         \u001b[0mLet\u001b[0m \u001b[0mthe\u001b[0m \u001b[0mreaders\u001b[0m \u001b[0mopen\u001b[0m \u001b[0mIOHanldes\u001b[0m \u001b[0mafter\u001b[0m \u001b[0mthey\u001b[0m \u001b[0mare\u001b[0m \u001b[0mdone\u001b[0m \u001b[0;32mwith\u001b[0m \u001b[0mtheir\u001b[0m \u001b[0mpotential\u001b[0m \u001b[0mraises\u001b[0m\u001b[0;34m.\u001b[0m\u001b[0;34m\u001b[0m\u001b[0;34m\u001b[0m\u001b[0m\n\u001b[1;32m   1361\u001b[0m         \"\"\"\n\u001b[0;32m-> 1362\u001b[0;31m         self.handles = get_handle(\n\u001b[0m\u001b[1;32m   1363\u001b[0m             \u001b[0msrc\u001b[0m\u001b[0;34m,\u001b[0m\u001b[0;34m\u001b[0m\u001b[0;34m\u001b[0m\u001b[0m\n\u001b[1;32m   1364\u001b[0m             \u001b[0;34m\"r\"\u001b[0m\u001b[0;34m,\u001b[0m\u001b[0;34m\u001b[0m\u001b[0;34m\u001b[0m\u001b[0m\n",
      "\u001b[0;32m~/opt/anaconda3/envs/capstone/lib/python3.8/site-packages/pandas/io/common.py\u001b[0m in \u001b[0;36mget_handle\u001b[0;34m(path_or_buf, mode, encoding, compression, memory_map, is_text, errors, storage_options)\u001b[0m\n\u001b[1;32m    640\u001b[0m                 \u001b[0merrors\u001b[0m \u001b[0;34m=\u001b[0m \u001b[0;34m\"replace\"\u001b[0m\u001b[0;34m\u001b[0m\u001b[0;34m\u001b[0m\u001b[0m\n\u001b[1;32m    641\u001b[0m             \u001b[0;31m# Encoding\u001b[0m\u001b[0;34m\u001b[0m\u001b[0;34m\u001b[0m\u001b[0;34m\u001b[0m\u001b[0m\n\u001b[0;32m--> 642\u001b[0;31m             handle = open(\n\u001b[0m\u001b[1;32m    643\u001b[0m                 \u001b[0mhandle\u001b[0m\u001b[0;34m,\u001b[0m\u001b[0;34m\u001b[0m\u001b[0;34m\u001b[0m\u001b[0m\n\u001b[1;32m    644\u001b[0m                 \u001b[0mioargs\u001b[0m\u001b[0;34m.\u001b[0m\u001b[0mmode\u001b[0m\u001b[0;34m,\u001b[0m\u001b[0;34m\u001b[0m\u001b[0;34m\u001b[0m\u001b[0m\n",
      "\u001b[0;31mFileNotFoundError\u001b[0m: [Errno 2] No such file or directory: '/network_inputs/osm_nodes_woodacre.csv'"
     ]
    }
   ],
   "source": [
    "#!/usr/bin/env python\n",
    "# coding: utf-8\n",
    "import os\n",
    "import gc\n",
    "import sys\n",
    "import time \n",
    "import random\n",
    "import logging \n",
    "import warnings\n",
    "import numpy as np\n",
    "import pandas as pd \n",
    "import rasterio as rio\n",
    "import scipy.io as sio\n",
    "import geopandas as gpd\n",
    "from ctypes import c_double\n",
    "from shapely.wkt import loads\n",
    "from shapely.geometry import Point\n",
    "import scipy.spatial.distance\n",
    "### user\n",
    "import haversine as haversine\n",
    "from queue_class import Network, Node, Link, Agent\n",
    "\n",
    "random.seed(0)\n",
    "np.random.seed(0)\n",
    "\n",
    "# warnings.filterwarnings(\"error\")\n",
    "\n",
    "def link_model(t, network):\n",
    "\n",
    "    for link_id, link in network.links.items(): \n",
    "        link.run_link_model(t, agent_id_dict=network.agents)\n",
    "#         print(link.link_type)\n",
    "        if link.link_type == 'v': ### do not track the link time of virtual links\n",
    "            link.travel_time_list = []\n",
    "        else:\n",
    "            link.travel_time_list = []\n",
    "        # link.update_travel_time(self, t_now, link_time_lookback_freq=None, g=None, update_graph=False)\n",
    "    return network\n",
    "\n",
    "def node_model(t, network, move, check_traffic_flow_links_dict):\n",
    "    node_ids_to_run = set([link.end_nid for link in network.links.values() if len(link.queue_vehicles)>0])\n",
    "    metrics = 0 \n",
    "    for node_id in node_ids_to_run:\n",
    "        node = network.nodes[node_id] \n",
    "        n_t_move, transfer_links, agent_update_dict, link_update_dict = node.run_node_model(t, node_id_dict=network.nodes, link_id_dict=network.links, agent_id_dict=network.agents, node2link_dict=network.node2link_dict)\n",
    "        move += n_t_move\n",
    "        ### how many people moves across a specified link pair in this step\n",
    "        for transfer_link in transfer_links:\n",
    "            if transfer_link in check_traffic_flow_links_dict.keys():\n",
    "                check_traffic_flow_links_dict[transfer_link] += 1\n",
    "    \n",
    "        for agent_id, agent_new_info in agent_update_dict.items():\n",
    "            \n",
    "            if agent_new_info[0] == 'shelter_p': metrics += 1\n",
    "            ### move stopped vehicles to a separate dictionary\n",
    "            if agent_new_info[0] in ['shelter_arrive', 'arrive']:\n",
    "                network.agents_stopped[agent_id] = agent_new_info\n",
    "                del network.agents[agent_id]\n",
    "            ### update vehicles still not stopped\n",
    "            else:\n",
    "                agent = network.agents[agent_id]\n",
    "                [agent.status, agent.current_link_start_nid, agent.current_link_end_nid,  agent.current_link_enter_time] = agent_new_info\n",
    "                agent.find_next_link(t, node2link_dict = network.node2link_dict)\n",
    "\n",
    "        for link_id, link_new_info in link_update_dict.items():\n",
    "            if link_new_info[0] == 'inflow':\n",
    "                [_, network.links[link_id].queue_vehicles, \n",
    "                network.links[link_id].remaining_outflow_capacity, \n",
    "                network.links[link_id].travel_time_list] = link_new_info\n",
    "            elif link_new_info[0] == 'outflow':\n",
    "                [_, network.links[link_id].run_vehicles, \n",
    "                network.links[link_id].remaining_inflow_capacity,\n",
    "                network.links[link_id].remaining_storage_capacity] = link_new_info\n",
    "            else:\n",
    "                print('invalid link update information')\n",
    "        \n",
    "    return network, move, check_traffic_flow_links_dict,metrics\n",
    "\n",
    "def one_step(t, network, check_traffic_flow_links, scen_nm, simulation_outputs):\n",
    "    \n",
    "    move = 0\n",
    "    ### agent model\n",
    "    t_agent_0 = time.time()\n",
    "    for agent_id, agent in network.agents.items():\n",
    "        # initial route \n",
    "        if t==0: routing_status = agent.get_path(g=network.g)\n",
    "        agent.load_vehicle(t, node2link_dict=network.node2link_dict, link_id_dict=network.links)\n",
    "        # reroute upon closure\n",
    "        if (agent.next_link is not None) and (network.links[agent.next_link].status=='closed'):\n",
    "            routing_status = agent.get_path(g=network.g)\n",
    "            agent.find_next_link(t, node2link_dict=network.node2link_dict)\n",
    "    t_agent_1 = time.time()\n",
    "\n",
    "    ### link model\n",
    "    ### Each iteration in the link model is not time-consuming. So just keep using one process.\n",
    "    t_link_0 = time.time()\n",
    "    network = link_model(t, network)\n",
    "    t_link_1 = time.time()\n",
    "    \n",
    "    ### node model\n",
    "    t_node_0 = time.time()\n",
    "    check_traffic_flow_links_dict = {link_pair: 0 for link_pair in check_traffic_flow_links}\n",
    "    network, move, check_traffic_flow_links_dict,metric = node_model(t, network, move, check_traffic_flow_links_dict)\n",
    "    t_node_1 = time.time()\n",
    "\n",
    "    ### metrics\n",
    "    if t%1 == 0:\n",
    "#         shelter_p_cnts = len([agent_id for agent_id, agent_info in network.agents_stopped.items() if agent_info[0]=='shelter_p'])\n",
    "        arrival_cnts = len([agent_id for agent_id, agent_info in network.agents_stopped.items() if agent_info[0]=='arrive'])\n",
    "        shelter_cnts = len([agent_id for agent_id, agent_info in network.agents_stopped.items() if agent_info[0]=='shelter_arrive'])\n",
    "        if len(network.agents)==0:\n",
    "            logging.info(\"all agents arrive at destinations\")\n",
    "            return 0\n",
    "        # vehicle locations\n",
    "        veh_loc = [network.links[network.node2link_dict[(agent.current_link_start_nid, agent.current_link_end_nid)]].midpoint for agent in network.agents.values()]\n",
    "        ### arrival\n",
    "        with open(simulation_outputs + '/t_stats/t_stats_{}.csv'.format(scen_nm),'a') as t_stats_outfile:\n",
    "            t_stats_outfile.write(\",\".join([str(x) for x in [t, arrival_cnts, shelter_cnts, move, metric]]) + \"\\n\")\n",
    "        ### transfer\n",
    "        with open(simulation_outputs + '/transfer_stats/transfer_stats_{}.csv'.format(scen_nm), 'a') as transfer_stats_outfile:\n",
    "            transfer_stats_outfile.write(\"{},\".format(t) + \",\".join([str(check_traffic_flow_links_dict[(il, ol)]) for (il, ol) in check_traffic_flow_links])+\"\\n\")\n",
    "\n",
    "    ### stepped outputs\n",
    "    if t%1==0:\n",
    "        link_output = pd.DataFrame(\n",
    "            [(link.link_id, len(link.queue_vehicles), len(link.run_vehicles), round(link.travel_time, 2)) for link in network.links.values() if not link.link_type=='v'], columns=['link_id', 'q', 'r', 't'])\n",
    "        link_output.to_csv(simulation_outputs + '/link_stats/link_stats_{}_t{}.csv'.format(scen_nm, t), index=False)\n",
    "        node_agent_cnts = pd.DataFrame(\n",
    "            [(agent.current_link_end_nid, agent.status, 1) for agent in network.agents.values()], columns=['node_id', 'status', 'cnt']).groupby(['node_id', 'status']).agg({'cnt': np.sum}).reset_index()\n",
    "        node_agent_cnts.to_csv(simulation_outputs + '/node_stats/node_agent_cnts_{}_t{}.csv'.format(scen_nm, t), index=False)\n",
    "\n",
    "    if t%200==0: \n",
    "        logging.info(\" \".join([str(i) for i in [t, arrival_cnts, shelter_cnts, move, '|', round(t_agent_1-t_agent_0, 2), round(t_node_1-t_node_0, 2), round(t_link_1-t_link_0, 2)]]) + \" \" + str(len(veh_loc)))\n",
    "    return network\n",
    "\n",
    "def demand(dept_time=[0,0,0,1000], demand_files=None, fire_dir = 'north', speed = 25):\n",
    "    logger = logging.getLogger(\"bk_evac\")\n",
    "    direction = {'south': 8398747289,\n",
    "    'north': 2006817311,\n",
    "    'east': 2882876550,\n",
    "    'west': 110377352 }\n",
    "    direction_opp ={'north':'south', 'south': 'north', 'east': 'west', 'west': 'east'}\n",
    "\n",
    "    all_od_list = []\n",
    "    [dept_time_mean, dept_time_std, dept_time_min, dept_time_max] = dept_time\n",
    "    # demand_files = ['/projects/berkeley_trb/demand_inputs/od_test.csv']\n",
    "#     for demand_file in demand_files:\n",
    "    od = pd.read_csv('../woodacre_civic'+ demand_files)\n",
    "#         ### transform OSM based id to graph node id\n",
    "#         od['origin_nid'] = od['o_osmid'].apply(lambda x: nodes_osmid_dict[x])\n",
    "#         od['destin_nid'] = od['d_osmid'].apply(lambda x: nodes_osmid_dict[x])\n",
    "    ### assign agent id\n",
    "#         if 'agent_id' not in od.columns: od['agent_id'] = np.arange(od.shape[0])\n",
    "    ### assign departure time. dept_time_std == 0 --> everyone leaves at the same time\n",
    "    if (dept_time_std==0): od['dept_time'] = dept_time_mean\n",
    "    else:\n",
    "        truncnorm_a, truncnorm_b = (dept_time_min-dept_time_mean)/dept_time_std, (dept_time_max-dept_time_mean)/dept_time_std\n",
    "        od['dept_time'] = truncnorm.rvs(truncnorm_a, truncnorm_b, loc=dept_time_mean, scale=dept_time_std, size=od.shape[0])\n",
    "        od['dept_time'] = od['dept_time'].astype(int)\n",
    "        # od.to_csv(scratch_dir + '/od.csv', index=False)\n",
    "        # sys.exit(0)\n",
    "    od['destin_osmid'] = int(direction[direction_opp[fire_dir]])\n",
    "\n",
    "#     if phase_tdiff is not None:\n",
    "#         od['dept_time'] += (od['evac_zone']-1)*phase_tdiff*60 ### t_diff in minutes\n",
    "    od.to_csv('../woodacre_civic' + demand_files, index=False)\n",
    "\n",
    "        # od['dept_time'] = 0\n",
    "#         ### assign vehicle length\n",
    "#         od_tow = od.groupby(['apn', 'hh']).agg({'hh_veh': 'first'}).sample(frac=tow_pct).reset_index()\n",
    "#         od_tow['veh_len'] = 15\n",
    "#         od = od.merge(od_tow, how='left', on=['apn', 'hh', 'hh_veh']).fillna(value={'veh_len': 8})\n",
    "#         # print(od.drop_duplicates(subset=['apn']).shape, od.drop_duplicates(subset=['apn', 'hh']).shape, od.drop_duplicates(subset=['apn', 'hh', 'hh_veh']).shape, np.sum(od['veh_len']==8), np.sum(od['veh_len']==15))\n",
    "#         # sys.exit(0)\n",
    "#         ### assign rerouting choice\n",
    "#         od['gps_reroute'] = np.random.choice([0, 1], size=od.shape[0], p=[1-reroute_pct, reroute_pct])\n",
    "#         all_od_list.append(od)\n",
    "\n",
    "#     all_od = pd.concat(all_od_list, sort=False, ignore_index=True)\n",
    "#     all_od = all_od.sample(frac=1).reset_index(drop=True) ### randomly shuffle rows\n",
    "#     logging.info('total numbers of agents from file {}'.format(all_od.shape))\n",
    "#     # all_od = all_od.iloc[0:3000].copy()\n",
    "#     logging.info('total numbers of agents taken {}'.format(all_od.shape))\n",
    "\n",
    "#     agents = []\n",
    "#     for row in all_od.itertuples():\n",
    "#         agents.append(Agent(getattr(row, 'agent_id'), getattr(row, 'origin_nid'), getattr(row, 'destin_nid'), getattr(row, 'dept_time'), getattr(row, 'veh_len'), getattr(row, 'gps_reroute')))    \n",
    "#     return agents\n",
    "      \n",
    "\n",
    "def preparation(dept_time_col=None, dept_time_id = 'imm'):\n",
    "    ### logging and global variables\n",
    "    \n",
    "    dept_time_dict = {'imm': [0,0,0,1000], 'fst': [20*60,10*60,10*60,30*60], 'mid': [40*60,20*60,20*60,60*60], 'slw': [60*60,30*60,30*60,90*60]}\n",
    "    dept_time = dept_time_dict[dept_time_id]\n",
    "    \n",
    "    \n",
    "   \n",
    "    reroute_freq = 10 ### sec\n",
    "    link_time_lookback_freq = 20 ### sec\n",
    "    ### dir\n",
    "#     work_dir = os.environ['HOME']+'/Documents/spatial_queue/example'\n",
    "    network_file_edges = '/network_inputs/osm_edges_woodacre.csv'\n",
    "    network_file_nodes = '/network_inputs/osm_nodes_woodacre.csv'\n",
    "    demand_files = [\"/demand_inputs/od_csv/od.csv\"]\n",
    "    simulation_outputs = '../woodacre_civic/simulation_outputs' ### scratch_folder\n",
    "\n",
    "    demand(dept_time=[0,0,0,1000], demand_files=demand_files[0], fire_dir = 'north', speed = 25)\n",
    "    scen_nm = \"test\"\n",
    "    logging.basicConfig(filename=simulation_outputs+'/log/{}.log'.format(scen_nm), filemode='w', format='%(asctime)s - %(message)s', level=logging.INFO, force=True)\n",
    "    logging.info(scen_nm)\n",
    "    print('log file created')\n",
    "\n",
    "    ### network\n",
    "    network = Network()\n",
    "    network.dataframe_to_network(network_file_edges = network_file_edges, network_file_nodes = network_file_nodes)\n",
    "    network.add_connectivity()\n",
    "\n",
    "    ### demand\n",
    "    network.add_demand(demand_files = demand_files)\n",
    "    logging.info('total numbers of agents taken {}'.format(len(network.agents.keys())))\n",
    "    \n",
    "    ### time step output\n",
    "    with open(simulation_outputs + '/t_stats/t_stats_{}.csv'.format(scen_nm), 'w') as t_stats_outfile:\n",
    "        t_stats_outfile.write(\",\".join(['t', 'arr', 'shelter', 'move'])+\"\\n\")\n",
    "    ### track the traffic flow from the following link pairs\n",
    "    check_traffic_flow_links = [(29,33)]\n",
    "#     with open(simulation_outputs + '/transfer_stats/transfer_stats_{}.csv'.format(\n",
    "#         scen_nm), 'w') as transfer_stats_outfile:\n",
    "#         transfer_stats_outfile.write(\"t,\"+\",\".join(['{}-{}'.format(il, ol) for (il, ol) in check_traffic_flow_links])+\"\\n\")\n",
    "\n",
    "    return network, check_traffic_flow_links, scen_nm, simulation_outputs\n",
    "\n",
    "\n",
    "network, check_traffic_flow_links, scen_nm, simulation_outputs = preparation(dept_time_col='dept_time_scen_1')\n",
    "# print(network.links)\n",
    "for t in range(0, 3600+1):\n",
    "#     print(t)\n",
    "    network = one_step(t, network, check_traffic_flow_links, scen_nm, simulation_outputs)\n",
    "\n",
    "# if __name__ == \"__main__\":\n",
    "#     main(dept_time_col='dept_time_scen_1')"
   ]
  },
  {
   "cell_type": "code",
   "execution_count": 7,
   "id": "5fc3ba99",
   "metadata": {},
   "outputs": [],
   "source": [
    "import numpy as np\n",
    "import pandas as pd \n",
    "import matplotlib.pyplot as plt \n",
    "%matplotlib inline"
   ]
  },
  {
   "cell_type": "code",
   "execution_count": 14,
   "id": "a0e1be7d",
   "metadata": {},
   "outputs": [
    {
     "data": {
      "image/png": "[encoded data removed]",
      "text/plain": [
       "<Figure size 720x360 with 1 Axes>"
      ]
     },
     "metadata": {
      "needs_background": "light"
     },
     "output_type": "display_data"
    }
   ],
   "source": [
    "\n",
    "fig, ax = plt.subplots(figsize=(10, 5))\n",
    "colors = iter(plt.rcParams['axes.prop_cycle'].by_key()['color'])\n",
    "# for commscen in [0, 1, 2]:\n",
    "#     c = next(colors)\n",
    "#     ### residents informed\n",
    "od = pd.read_csv('../woodacre_civic/demand_inputs/od_csv/od.csv')\n",
    "od_cnts_t = od.groupby('dept_time').size().reset_index().rename(columns={0: 'od_cnts'})\n",
    "od_cnts_t['tot_od_cnts'] = od_cnts_t['od_cnts'].cumsum()\n",
    "od_cnts_t.head()\n",
    "plt.plot([0], [300], label='informed')\n",
    "### arrival\n",
    "t_stats = pd.read_csv('../woodacre_civic/simulation_outputs/t_stats/t_stats_test.csv')\n",
    "plt.plot(t_stats['t'], t_stats['arr'], color='red', linestyle='--', label='arrived')\n",
    "\n",
    "plt.gca().spines['right'].set_color('none')\n",
    "plt.gca().spines['top'].set_color('none')\n",
    "plt.xlim([0, 20])\n",
    "plt.ylim([0, 300])\n",
    "plt.xlabel('Minutes')\n",
    "plt.ylabel('Vehicles informed/arrived')\n",
    "plt.legend()\n",
    "plt.show()"
   ]
  },
  {
   "cell_type": "code",
   "execution_count": 23,
   "id": "7c76982b",
   "metadata": {},
   "outputs": [
    {
     "data": {
      "text/html": [
       "<div>\n",
       "<style scoped>\n",
       "    .dataframe tbody tr th:only-of-type {\n",
       "        vertical-align: middle;\n",
       "    }\n",
       "\n",
       "    .dataframe tbody tr th {\n",
       "        vertical-align: top;\n",
       "    }\n",
       "\n",
       "    .dataframe thead th {\n",
       "        text-align: right;\n",
       "    }\n",
       "</style>\n",
       "<table border=\"1\" class=\"dataframe\">\n",
       "  <thead>\n",
       "    <tr style=\"text-align: right;\">\n",
       "      <th></th>\n",
       "      <th>t</th>\n",
       "      <th>arr</th>\n",
       "      <th>shelter</th>\n",
       "      <th>move</th>\n",
       "    </tr>\n",
       "  </thead>\n",
       "  <tbody>\n",
       "    <tr>\n",
       "      <th>0</th>\n",
       "      <td>0</td>\n",
       "      <td>0</td>\n",
       "      <td>0</td>\n",
       "      <td>0</td>\n",
       "    </tr>\n",
       "    <tr>\n",
       "      <th>1</th>\n",
       "      <td>100</td>\n",
       "      <td>0</td>\n",
       "      <td>143</td>\n",
       "      <td>0</td>\n",
       "    </tr>\n",
       "    <tr>\n",
       "      <th>2</th>\n",
       "      <td>200</td>\n",
       "      <td>0</td>\n",
       "      <td>149</td>\n",
       "      <td>0</td>\n",
       "    </tr>\n",
       "    <tr>\n",
       "      <th>3</th>\n",
       "      <td>261</td>\n",
       "      <td>0</td>\n",
       "      <td>98</td>\n",
       "      <td>0</td>\n",
       "    </tr>\n",
       "    <tr>\n",
       "      <th>4</th>\n",
       "      <td>261</td>\n",
       "      <td>0</td>\n",
       "      <td>32</td>\n",
       "      <td>0</td>\n",
       "    </tr>\n",
       "  </tbody>\n",
       "</table>\n",
       "</div>"
      ],
      "text/plain": [
       "     t  arr  shelter  move\n",
       "0    0    0        0     0\n",
       "1  100    0      143     0\n",
       "2  200    0      149     0\n",
       "3  261    0       98     0\n",
       "4  261    0       32     0"
      ]
     },
     "execution_count": 23,
     "metadata": {},
     "output_type": "execute_result"
    }
   ],
   "source": [
    "t_stats = pd.read_csv('../woodacre_civic/simulation_outputs/t_stats/t_stats_test.csv')\n",
    "t_stats.head()"
   ]
  },
  {
   "cell_type": "code",
   "execution_count": 4,
   "id": "374fe80b",
   "metadata": {},
   "outputs": [
    {
     "data": {
      "text/html": [
       "<div>\n",
       "<style scoped>\n",
       "    .dataframe tbody tr th:only-of-type {\n",
       "        vertical-align: middle;\n",
       "    }\n",
       "\n",
       "    .dataframe tbody tr th {\n",
       "        vertical-align: top;\n",
       "    }\n",
       "\n",
       "    .dataframe thead th {\n",
       "        text-align: right;\n",
       "    }\n",
       "</style>\n",
       "<table border=\"1\" class=\"dataframe\">\n",
       "  <thead>\n",
       "    <tr style=\"text-align: right;\">\n",
       "      <th></th>\n",
       "      <th>dept_time</th>\n",
       "      <th>od_cnts</th>\n",
       "      <th>tot_od_cnts</th>\n",
       "    </tr>\n",
       "  </thead>\n",
       "  <tbody>\n",
       "    <tr>\n",
       "      <th>0</th>\n",
       "      <td>0</td>\n",
       "      <td>2462</td>\n",
       "      <td>2462</td>\n",
       "    </tr>\n",
       "  </tbody>\n",
       "</table>\n",
       "</div>"
      ],
      "text/plain": [
       "   dept_time  od_cnts  tot_od_cnts\n",
       "0          0     2462         2462"
      ]
     },
     "execution_count": 4,
     "metadata": {},
     "output_type": "execute_result"
    }
   ],
   "source": [
    "od_cnts_t.head()"
   ]
  },
  {
   "cell_type": "code",
   "execution_count": 5,
   "id": "0ab98b10",
   "metadata": {},
   "outputs": [],
   "source": [
    "import scipy.io as sio\n",
    "import json\n",
    "import sys\n",
    "import numpy as np \n",
    "import pandas as pd \n",
    "import geopandas as gpd\n",
    "import os \n",
    "import random\n",
    "import matplotlib as mpl \n",
    "import matplotlib.pyplot as plt \n",
    "import matplotlib.colors as pltcolors\n",
    "import descartes \n",
    "import shapely.wkt \n",
    "import shapely.ops\n",
    "import gc \n",
    "%matplotlib inline\n",
    "\n",
    "absolute_path = '../woodacre_civic'\n",
    "\n",
    "network_file_edges = '/network_inputs/osm_edges.csv'\n",
    "simulation_outputs = '/simulation_outputs/link_stats'\n",
    "visualization_outputs = '/visualization_outputs'"
   ]
  },
  {
   "cell_type": "code",
   "execution_count": 6,
   "id": "07b792a5",
   "metadata": {},
   "outputs": [],
   "source": [
    "def make_img(t=0, memory=None):\n",
    "\n",
    "    ### Get edge veh counts\n",
    "    links_df = pd.read_csv('../woodacre_civic/network_inputs/osm_edges_woodacre.csv')\n",
    "    link_queue_duration = pd.read_csv(absolute_path + simulation_outputs +'/link_stats_test_t{}.csv'.format(t))\n",
    "    link_queue_duration = pd.merge(link_queue_duration, links_df[['eid', 'geometry']], left_on='link_id', right_on='eid', how='left')\n",
    "    \n",
    "#     road_df = pd.read_csv(absolute_path + network_file_edges)\n",
    "#     veh_df = pd.read_csv(absolute_path + simulation_outputs +'link_queue_duration_{}.csv'.format(t))\n",
    "    \n",
    "    road_gdf = gpd.GeoDataFrame(link_queue_duration, \n",
    "        crs={'init': 'epsg:4326'}, \n",
    "        geometry=link_queue_duration['geometry'].map(shapely.wkt.loads))\n",
    "#     print(road_gdf.head())\n",
    "#     road_gdf = road_gdf.cx[-122.274061:-122.270398, 37.888713:37.890615]\n",
    "    \n",
    "#     veh_gdf = gpd.GeoDataFrame(veh_df, \n",
    "#                                crs={'init': 'epsg:4326'},\n",
    "#                                geometry=gpd.points_from_xy(veh_df.lon, veh_df.lat))\n",
    "#     veh_gdf = veh_gdf.cx[-122.274061:-122.270398, 37.888713:37.890615]\n",
    "#     r = lambda: random.randint(0,255)\n",
    "    \n",
    "#     def id_to_random_color(number, memory):\n",
    "#         if not number in memory:\n",
    "#             hexcolor = '#%02X%02X%02X' % (r(),r(),r())\n",
    "#             memory[number] = hexcolor\n",
    "#         return memory[number]\n",
    "    \n",
    "#     veh_gdf['color'] = veh_gdf.apply(lambda x: id_to_random_color(x['v_id'], memory), axis=1)\n",
    "\n",
    "    fig = plt.figure(figsize=(10, 10))\n",
    "    \n",
    "    ax1 = fig.add_axes([0.05, 0, 0.9, 0.9])\n",
    "#     ax1.tick_params(axis='both', which='both', bottom=False, top=False, labelbottom=False, right=False, left=False, labelleft=False)\n",
    "    road_plot = road_gdf.plot(ax=ax1, column='q')\n",
    "#     veh_plot = veh_gdf.plot(ax=ax1, color=link_queue_duration['q'])\n",
    "\n",
    "    fig.text(0.5, 0.85, '{} sec into evacuation'.format(t), fontsize=30, ha='center', va='center')\n",
    "#     plt.show()\n",
    "    # sys.exit(0)\n",
    "    plt.savefig(absolute_path + visualization_outputs + 'veh_loc_t{}.png'.format(t), transparent=True)\n",
    "    plt.close()\n",
    "    \n",
    "    return memory"
   ]
  },
  {
   "cell_type": "code",
   "execution_count": 97,
   "id": "9e85c05a",
   "metadata": {},
   "outputs": [
    {
     "name": "stdout",
     "output_type": "stream",
     "text": [
      "   link_id  q  r     t  eid                                           geometry\n",
      "0        0  1  0  4.58    0  LINESTRING (-122.64457 38.01290, -122.64515 38...\n",
      "1        1  0  0  2.79    1  LINESTRING (-122.64457 38.01290, -122.64421 38...\n",
      "2        2  0  0  3.70    2  LINESTRING (-122.64341 38.01206, -122.64315 38...\n",
      "3        3  0  0  5.56    3  LINESTRING (-122.64341 38.01206, -122.64321 38...\n",
      "4        4  0  0  3.87    4  LINESTRING (-122.64341 38.01206, -122.64343 38...\n"
     ]
    },
    {
     "name": "stderr",
     "output_type": "stream",
     "text": [
      "/Users/barkha/opt/anaconda3/envs/capstone/lib/python3.8/site-packages/pyproj/crs/crs.py:53: FutureWarning: '+init=<authority>:<code>' syntax is deprecated. '<authority>:<code>' is the preferred initialization method. When making the change, be mindful of axis order changes: https://pyproj4.github.io/pyproj/stable/gotchas.html#axis-order-changes-in-proj-6\n",
      "  return _prepare_from_string(\" \".join(pjargs))\n"
     ]
    }
   ],
   "source": [
    "make_img(t=1000, memory=None)"
   ]
  },
  {
   "cell_type": "code",
   "execution_count": 99,
   "id": "ae630234",
   "metadata": {},
   "outputs": [],
   "source": [
    "def make_gif(memory=None):\n",
    "\n",
    "    import imageio\n",
    "\n",
    "    images = []\n",
    "    for t in range(0,200, 2):\n",
    "#         print(t)\n",
    "        memory = make_img(t=t, memory=memory)\n",
    "        images.append(imageio.imread(absolute_path + visualization_outputs + 'veh_loc_t{}.png'.format(t)))\n",
    "    imageio.mimsave('../woodacre_civic/visualization_outputs/veh_loc_animation.gif', images, fps=2)"
   ]
  },
  {
   "cell_type": "code",
   "execution_count": 100,
   "id": "7f0d7496",
   "metadata": {},
   "outputs": [
    {
     "name": "stderr",
     "output_type": "stream",
     "text": [
      "/Users/barkha/opt/anaconda3/envs/capstone/lib/python3.8/site-packages/pyproj/crs/crs.py:53: FutureWarning: '+init=<authority>:<code>' syntax is deprecated. '<authority>:<code>' is the preferred initialization method. When making the change, be mindful of axis order changes: https://pyproj4.github.io/pyproj/stable/gotchas.html#axis-order-changes-in-proj-6\n",
      "  return _prepare_from_string(\" \".join(pjargs))\n",
      "/Users/barkha/opt/anaconda3/envs/capstone/lib/python3.8/site-packages/pyproj/crs/crs.py:53: FutureWarning: '+init=<authority>:<code>' syntax is deprecated. '<authority>:<code>' is the preferred initialization method. When making the change, be mindful of axis order changes: https://pyproj4.github.io/pyproj/stable/gotchas.html#axis-order-changes-in-proj-6\n",
      "  return _prepare_from_string(\" \".join(pjargs))\n"
     ]
    },
    {
     "name": "stdout",
     "output_type": "stream",
     "text": [
      "   link_id  q  r     t  eid                                           geometry\n",
      "0        0  0  0  4.58    0  LINESTRING (-122.64457 38.01290, -122.64515 38...\n",
      "1        1  0  0  2.79    1  LINESTRING (-122.64457 38.01290, -122.64421 38...\n",
      "2        2  0  0  3.70    2  LINESTRING (-122.64341 38.01206, -122.64315 38...\n",
      "3        3  0  0  5.56    3  LINESTRING (-122.64341 38.01206, -122.64321 38...\n",
      "4        4  0  0  3.87    4  LINESTRING (-122.64341 38.01206, -122.64343 38...\n",
      "   link_id  q  r     t  eid                                           geometry\n",
      "0        0  0  1  4.58    0  LINESTRING (-122.64457 38.01290, -122.64515 38...\n",
      "1        1  0  0  2.79    1  LINESTRING (-122.64457 38.01290, -122.64421 38...\n",
      "2        2  0  0  3.70    2  LINESTRING (-122.64341 38.01206, -122.64315 38...\n",
      "3        3  0  0  5.56    3  LINESTRING (-122.64341 38.01206, -122.64321 38...\n",
      "4        4  0  0  3.87    4  LINESTRING (-122.64341 38.01206, -122.64343 38...\n",
      "   link_id  q  r     t  eid                                           geometry\n",
      "0        0  0  1  4.58    0  LINESTRING (-122.64457 38.01290, -122.64515 38...\n",
      "1        1  0  0  2.79    1  LINESTRING (-122.64457 38.01290, -122.64421 38...\n",
      "2        2  0  0  3.70    2  LINESTRING (-122.64341 38.01206, -122.64315 38...\n",
      "3        3  0  0  5.56    3  LINESTRING (-122.64341 38.01206, -122.64321 38...\n",
      "4        4  0  0  3.87    4  LINESTRING (-122.64341 38.01206, -122.64343 38...\n"
     ]
    },
    {
     "name": "stderr",
     "output_type": "stream",
     "text": [
      "/Users/barkha/opt/anaconda3/envs/capstone/lib/python3.8/site-packages/pyproj/crs/crs.py:53: FutureWarning: '+init=<authority>:<code>' syntax is deprecated. '<authority>:<code>' is the preferred initialization method. When making the change, be mindful of axis order changes: https://pyproj4.github.io/pyproj/stable/gotchas.html#axis-order-changes-in-proj-6\n",
      "  return _prepare_from_string(\" \".join(pjargs))\n",
      "/Users/barkha/opt/anaconda3/envs/capstone/lib/python3.8/site-packages/pyproj/crs/crs.py:53: FutureWarning: '+init=<authority>:<code>' syntax is deprecated. '<authority>:<code>' is the preferred initialization method. When making the change, be mindful of axis order changes: https://pyproj4.github.io/pyproj/stable/gotchas.html#axis-order-changes-in-proj-6\n",
      "  return _prepare_from_string(\" \".join(pjargs))\n"
     ]
    },
    {
     "name": "stdout",
     "output_type": "stream",
     "text": [
      "   link_id  q  r     t  eid                                           geometry\n",
      "0        0  1  0  4.58    0  LINESTRING (-122.64457 38.01290, -122.64515 38...\n",
      "1        1  0  0  2.79    1  LINESTRING (-122.64457 38.01290, -122.64421 38...\n",
      "2        2  0  0  3.70    2  LINESTRING (-122.64341 38.01206, -122.64315 38...\n",
      "3        3  0  0  5.56    3  LINESTRING (-122.64341 38.01206, -122.64321 38...\n",
      "4        4  0  0  3.87    4  LINESTRING (-122.64341 38.01206, -122.64343 38...\n",
      "   link_id  q  r     t  eid                                           geometry\n",
      "0        0  1  0  4.58    0  LINESTRING (-122.64457 38.01290, -122.64515 38...\n",
      "1        1  0  0  2.79    1  LINESTRING (-122.64457 38.01290, -122.64421 38...\n",
      "2        2  0  0  3.70    2  LINESTRING (-122.64341 38.01206, -122.64315 38...\n",
      "3        3  0  0  5.56    3  LINESTRING (-122.64341 38.01206, -122.64321 38...\n",
      "4        4  0  0  3.87    4  LINESTRING (-122.64341 38.01206, -122.64343 38...\n"
     ]
    },
    {
     "name": "stderr",
     "output_type": "stream",
     "text": [
      "/Users/barkha/opt/anaconda3/envs/capstone/lib/python3.8/site-packages/pyproj/crs/crs.py:53: FutureWarning: '+init=<authority>:<code>' syntax is deprecated. '<authority>:<code>' is the preferred initialization method. When making the change, be mindful of axis order changes: https://pyproj4.github.io/pyproj/stable/gotchas.html#axis-order-changes-in-proj-6\n",
      "  return _prepare_from_string(\" \".join(pjargs))\n",
      "/Users/barkha/opt/anaconda3/envs/capstone/lib/python3.8/site-packages/pyproj/crs/crs.py:53: FutureWarning: '+init=<authority>:<code>' syntax is deprecated. '<authority>:<code>' is the preferred initialization method. When making the change, be mindful of axis order changes: https://pyproj4.github.io/pyproj/stable/gotchas.html#axis-order-changes-in-proj-6\n",
      "  return _prepare_from_string(\" \".join(pjargs))\n"
     ]
    },
    {
     "name": "stdout",
     "output_type": "stream",
     "text": [
      "   link_id  q  r     t  eid                                           geometry\n",
      "0        0  1  0  4.58    0  LINESTRING (-122.64457 38.01290, -122.64515 38...\n",
      "1        1  0  0  2.79    1  LINESTRING (-122.64457 38.01290, -122.64421 38...\n",
      "2        2  0  0  3.70    2  LINESTRING (-122.64341 38.01206, -122.64315 38...\n",
      "3        3  0  0  5.56    3  LINESTRING (-122.64341 38.01206, -122.64321 38...\n",
      "4        4  0  0  3.87    4  LINESTRING (-122.64341 38.01206, -122.64343 38...\n"
     ]
    },
    {
     "name": "stderr",
     "output_type": "stream",
     "text": [
      "/Users/barkha/opt/anaconda3/envs/capstone/lib/python3.8/site-packages/pyproj/crs/crs.py:53: FutureWarning: '+init=<authority>:<code>' syntax is deprecated. '<authority>:<code>' is the preferred initialization method. When making the change, be mindful of axis order changes: https://pyproj4.github.io/pyproj/stable/gotchas.html#axis-order-changes-in-proj-6\n",
      "  return _prepare_from_string(\" \".join(pjargs))\n",
      "/Users/barkha/opt/anaconda3/envs/capstone/lib/python3.8/site-packages/pyproj/crs/crs.py:53: FutureWarning: '+init=<authority>:<code>' syntax is deprecated. '<authority>:<code>' is the preferred initialization method. When making the change, be mindful of axis order changes: https://pyproj4.github.io/pyproj/stable/gotchas.html#axis-order-changes-in-proj-6\n",
      "  return _prepare_from_string(\" \".join(pjargs))\n"
     ]
    },
    {
     "name": "stdout",
     "output_type": "stream",
     "text": [
      "   link_id  q  r     t  eid                                           geometry\n",
      "0        0  1  0  4.58    0  LINESTRING (-122.64457 38.01290, -122.64515 38...\n",
      "1        1  0  0  2.79    1  LINESTRING (-122.64457 38.01290, -122.64421 38...\n",
      "2        2  0  0  3.70    2  LINESTRING (-122.64341 38.01206, -122.64315 38...\n",
      "3        3  0  0  5.56    3  LINESTRING (-122.64341 38.01206, -122.64321 38...\n",
      "4        4  0  0  3.87    4  LINESTRING (-122.64341 38.01206, -122.64343 38...\n",
      "   link_id  q  r     t  eid                                           geometry\n",
      "0        0  1  0  4.58    0  LINESTRING (-122.64457 38.01290, -122.64515 38...\n",
      "1        1  0  0  2.79    1  LINESTRING (-122.64457 38.01290, -122.64421 38...\n",
      "2        2  0  0  3.70    2  LINESTRING (-122.64341 38.01206, -122.64315 38...\n",
      "3        3  0  0  5.56    3  LINESTRING (-122.64341 38.01206, -122.64321 38...\n",
      "4        4  0  0  3.87    4  LINESTRING (-122.64341 38.01206, -122.64343 38...\n"
     ]
    },
    {
     "name": "stderr",
     "output_type": "stream",
     "text": [
      "/Users/barkha/opt/anaconda3/envs/capstone/lib/python3.8/site-packages/pyproj/crs/crs.py:53: FutureWarning: '+init=<authority>:<code>' syntax is deprecated. '<authority>:<code>' is the preferred initialization method. When making the change, be mindful of axis order changes: https://pyproj4.github.io/pyproj/stable/gotchas.html#axis-order-changes-in-proj-6\n",
      "  return _prepare_from_string(\" \".join(pjargs))\n",
      "/Users/barkha/opt/anaconda3/envs/capstone/lib/python3.8/site-packages/pyproj/crs/crs.py:53: FutureWarning: '+init=<authority>:<code>' syntax is deprecated. '<authority>:<code>' is the preferred initialization method. When making the change, be mindful of axis order changes: https://pyproj4.github.io/pyproj/stable/gotchas.html#axis-order-changes-in-proj-6\n",
      "  return _prepare_from_string(\" \".join(pjargs))\n"
     ]
    },
    {
     "name": "stdout",
     "output_type": "stream",
     "text": [
      "   link_id  q  r     t  eid                                           geometry\n",
      "0        0  1  0  4.58    0  LINESTRING (-122.64457 38.01290, -122.64515 38...\n",
      "1        1  0  0  2.79    1  LINESTRING (-122.64457 38.01290, -122.64421 38...\n",
      "2        2  0  0  3.70    2  LINESTRING (-122.64341 38.01206, -122.64315 38...\n",
      "3        3  0  0  5.56    3  LINESTRING (-122.64341 38.01206, -122.64321 38...\n",
      "4        4  0  0  3.87    4  LINESTRING (-122.64341 38.01206, -122.64343 38...\n",
      "   link_id  q  r     t  eid                                           geometry\n",
      "0        0  1  0  4.58    0  LINESTRING (-122.64457 38.01290, -122.64515 38...\n",
      "1        1  0  0  2.79    1  LINESTRING (-122.64457 38.01290, -122.64421 38...\n",
      "2        2  0  0  3.70    2  LINESTRING (-122.64341 38.01206, -122.64315 38...\n",
      "3        3  0  0  5.56    3  LINESTRING (-122.64341 38.01206, -122.64321 38...\n",
      "4        4  0  0  3.87    4  LINESTRING (-122.64341 38.01206, -122.64343 38...\n"
     ]
    },
    {
     "name": "stderr",
     "output_type": "stream",
     "text": [
      "/Users/barkha/opt/anaconda3/envs/capstone/lib/python3.8/site-packages/pyproj/crs/crs.py:53: FutureWarning: '+init=<authority>:<code>' syntax is deprecated. '<authority>:<code>' is the preferred initialization method. When making the change, be mindful of axis order changes: https://pyproj4.github.io/pyproj/stable/gotchas.html#axis-order-changes-in-proj-6\n",
      "  return _prepare_from_string(\" \".join(pjargs))\n"
     ]
    },
    {
     "name": "stdout",
     "output_type": "stream",
     "text": [
      "   link_id  q  r     t  eid                                           geometry\n",
      "0        0  1  0  4.58    0  LINESTRING (-122.64457 38.01290, -122.64515 38...\n",
      "1        1  0  0  2.79    1  LINESTRING (-122.64457 38.01290, -122.64421 38...\n",
      "2        2  0  0  3.70    2  LINESTRING (-122.64341 38.01206, -122.64315 38...\n",
      "3        3  0  0  5.56    3  LINESTRING (-122.64341 38.01206, -122.64321 38...\n",
      "4        4  0  0  3.87    4  LINESTRING (-122.64341 38.01206, -122.64343 38...\n"
     ]
    },
    {
     "name": "stderr",
     "output_type": "stream",
     "text": [
      "/Users/barkha/opt/anaconda3/envs/capstone/lib/python3.8/site-packages/pyproj/crs/crs.py:53: FutureWarning: '+init=<authority>:<code>' syntax is deprecated. '<authority>:<code>' is the preferred initialization method. When making the change, be mindful of axis order changes: https://pyproj4.github.io/pyproj/stable/gotchas.html#axis-order-changes-in-proj-6\n",
      "  return _prepare_from_string(\" \".join(pjargs))\n"
     ]
    },
    {
     "name": "stdout",
     "output_type": "stream",
     "text": [
      "   link_id  q  r     t  eid                                           geometry\n",
      "0        0  1  0  4.58    0  LINESTRING (-122.64457 38.01290, -122.64515 38...\n",
      "1        1  0  0  2.79    1  LINESTRING (-122.64457 38.01290, -122.64421 38...\n",
      "2        2  0  0  3.70    2  LINESTRING (-122.64341 38.01206, -122.64315 38...\n",
      "3        3  0  0  5.56    3  LINESTRING (-122.64341 38.01206, -122.64321 38...\n",
      "4        4  0  0  3.87    4  LINESTRING (-122.64341 38.01206, -122.64343 38...\n"
     ]
    },
    {
     "name": "stderr",
     "output_type": "stream",
     "text": [
      "/Users/barkha/opt/anaconda3/envs/capstone/lib/python3.8/site-packages/pyproj/crs/crs.py:53: FutureWarning: '+init=<authority>:<code>' syntax is deprecated. '<authority>:<code>' is the preferred initialization method. When making the change, be mindful of axis order changes: https://pyproj4.github.io/pyproj/stable/gotchas.html#axis-order-changes-in-proj-6\n",
      "  return _prepare_from_string(\" \".join(pjargs))\n"
     ]
    },
    {
     "name": "stdout",
     "output_type": "stream",
     "text": [
      "   link_id  q  r     t  eid                                           geometry\n",
      "0        0  1  0  4.58    0  LINESTRING (-122.64457 38.01290, -122.64515 38...\n",
      "1        1  0  0  2.79    1  LINESTRING (-122.64457 38.01290, -122.64421 38...\n",
      "2        2  0  0  3.70    2  LINESTRING (-122.64341 38.01206, -122.64315 38...\n",
      "3        3  0  0  5.56    3  LINESTRING (-122.64341 38.01206, -122.64321 38...\n",
      "4        4  0  0  3.87    4  LINESTRING (-122.64341 38.01206, -122.64343 38...\n",
      "   link_id  q  r     t  eid                                           geometry\n",
      "0        0  1  0  4.58    0  LINESTRING (-122.64457 38.01290, -122.64515 38...\n",
      "1        1  0  0  2.79    1  LINESTRING (-122.64457 38.01290, -122.64421 38...\n",
      "2        2  0  0  3.70    2  LINESTRING (-122.64341 38.01206, -122.64315 38...\n",
      "3        3  0  0  5.56    3  LINESTRING (-122.64341 38.01206, -122.64321 38...\n",
      "4        4  0  0  3.87    4  LINESTRING (-122.64341 38.01206, -122.64343 38...\n"
     ]
    },
    {
     "name": "stderr",
     "output_type": "stream",
     "text": [
      "/Users/barkha/opt/anaconda3/envs/capstone/lib/python3.8/site-packages/pyproj/crs/crs.py:53: FutureWarning: '+init=<authority>:<code>' syntax is deprecated. '<authority>:<code>' is the preferred initialization method. When making the change, be mindful of axis order changes: https://pyproj4.github.io/pyproj/stable/gotchas.html#axis-order-changes-in-proj-6\n",
      "  return _prepare_from_string(\" \".join(pjargs))\n",
      "/Users/barkha/opt/anaconda3/envs/capstone/lib/python3.8/site-packages/pyproj/crs/crs.py:53: FutureWarning: '+init=<authority>:<code>' syntax is deprecated. '<authority>:<code>' is the preferred initialization method. When making the change, be mindful of axis order changes: https://pyproj4.github.io/pyproj/stable/gotchas.html#axis-order-changes-in-proj-6\n",
      "  return _prepare_from_string(\" \".join(pjargs))\n"
     ]
    },
    {
     "name": "stdout",
     "output_type": "stream",
     "text": [
      "   link_id  q  r     t  eid                                           geometry\n",
      "0        0  1  0  4.58    0  LINESTRING (-122.64457 38.01290, -122.64515 38...\n",
      "1        1  0  0  2.79    1  LINESTRING (-122.64457 38.01290, -122.64421 38...\n",
      "2        2  0  0  3.70    2  LINESTRING (-122.64341 38.01206, -122.64315 38...\n",
      "3        3  0  0  5.56    3  LINESTRING (-122.64341 38.01206, -122.64321 38...\n",
      "4        4  0  0  3.87    4  LINESTRING (-122.64341 38.01206, -122.64343 38...\n"
     ]
    },
    {
     "name": "stderr",
     "output_type": "stream",
     "text": [
      "/Users/barkha/opt/anaconda3/envs/capstone/lib/python3.8/site-packages/pyproj/crs/crs.py:53: FutureWarning: '+init=<authority>:<code>' syntax is deprecated. '<authority>:<code>' is the preferred initialization method. When making the change, be mindful of axis order changes: https://pyproj4.github.io/pyproj/stable/gotchas.html#axis-order-changes-in-proj-6\n",
      "  return _prepare_from_string(\" \".join(pjargs))\n"
     ]
    },
    {
     "name": "stdout",
     "output_type": "stream",
     "text": [
      "   link_id  q  r     t  eid                                           geometry\n",
      "0        0  1  0  4.58    0  LINESTRING (-122.64457 38.01290, -122.64515 38...\n",
      "1        1  0  0  2.79    1  LINESTRING (-122.64457 38.01290, -122.64421 38...\n",
      "2        2  0  0  3.70    2  LINESTRING (-122.64341 38.01206, -122.64315 38...\n",
      "3        3  0  0  5.56    3  LINESTRING (-122.64341 38.01206, -122.64321 38...\n",
      "4        4  0  0  3.87    4  LINESTRING (-122.64341 38.01206, -122.64343 38...\n",
      "   link_id  q  r     t  eid                                           geometry\n",
      "0        0  1  0  4.58    0  LINESTRING (-122.64457 38.01290, -122.64515 38...\n",
      "1        1  0  0  2.79    1  LINESTRING (-122.64457 38.01290, -122.64421 38...\n",
      "2        2  0  0  3.70    2  LINESTRING (-122.64341 38.01206, -122.64315 38...\n",
      "3        3  0  0  5.56    3  LINESTRING (-122.64341 38.01206, -122.64321 38...\n",
      "4        4  0  0  3.87    4  LINESTRING (-122.64341 38.01206, -122.64343 38...\n"
     ]
    },
    {
     "name": "stderr",
     "output_type": "stream",
     "text": [
      "/Users/barkha/opt/anaconda3/envs/capstone/lib/python3.8/site-packages/pyproj/crs/crs.py:53: FutureWarning: '+init=<authority>:<code>' syntax is deprecated. '<authority>:<code>' is the preferred initialization method. When making the change, be mindful of axis order changes: https://pyproj4.github.io/pyproj/stable/gotchas.html#axis-order-changes-in-proj-6\n",
      "  return _prepare_from_string(\" \".join(pjargs))\n",
      "/Users/barkha/opt/anaconda3/envs/capstone/lib/python3.8/site-packages/pyproj/crs/crs.py:53: FutureWarning: '+init=<authority>:<code>' syntax is deprecated. '<authority>:<code>' is the preferred initialization method. When making the change, be mindful of axis order changes: https://pyproj4.github.io/pyproj/stable/gotchas.html#axis-order-changes-in-proj-6\n",
      "  return _prepare_from_string(\" \".join(pjargs))\n"
     ]
    },
    {
     "name": "stdout",
     "output_type": "stream",
     "text": [
      "   link_id  q  r     t  eid                                           geometry\n",
      "0        0  1  0  4.58    0  LINESTRING (-122.64457 38.01290, -122.64515 38...\n",
      "1        1  0  0  2.79    1  LINESTRING (-122.64457 38.01290, -122.64421 38...\n",
      "2        2  0  0  3.70    2  LINESTRING (-122.64341 38.01206, -122.64315 38...\n",
      "3        3  0  0  5.56    3  LINESTRING (-122.64341 38.01206, -122.64321 38...\n",
      "4        4  0  0  3.87    4  LINESTRING (-122.64341 38.01206, -122.64343 38...\n"
     ]
    },
    {
     "name": "stderr",
     "output_type": "stream",
     "text": [
      "/Users/barkha/opt/anaconda3/envs/capstone/lib/python3.8/site-packages/pyproj/crs/crs.py:53: FutureWarning: '+init=<authority>:<code>' syntax is deprecated. '<authority>:<code>' is the preferred initialization method. When making the change, be mindful of axis order changes: https://pyproj4.github.io/pyproj/stable/gotchas.html#axis-order-changes-in-proj-6\n",
      "  return _prepare_from_string(\" \".join(pjargs))\n"
     ]
    },
    {
     "name": "stdout",
     "output_type": "stream",
     "text": [
      "   link_id  q  r     t  eid                                           geometry\n",
      "0        0  1  0  4.58    0  LINESTRING (-122.64457 38.01290, -122.64515 38...\n",
      "1        1  0  0  2.79    1  LINESTRING (-122.64457 38.01290, -122.64421 38...\n",
      "2        2  0  0  3.70    2  LINESTRING (-122.64341 38.01206, -122.64315 38...\n",
      "3        3  0  0  5.56    3  LINESTRING (-122.64341 38.01206, -122.64321 38...\n",
      "4        4  0  0  3.87    4  LINESTRING (-122.64341 38.01206, -122.64343 38...\n"
     ]
    },
    {
     "name": "stderr",
     "output_type": "stream",
     "text": [
      "/Users/barkha/opt/anaconda3/envs/capstone/lib/python3.8/site-packages/pyproj/crs/crs.py:53: FutureWarning: '+init=<authority>:<code>' syntax is deprecated. '<authority>:<code>' is the preferred initialization method. When making the change, be mindful of axis order changes: https://pyproj4.github.io/pyproj/stable/gotchas.html#axis-order-changes-in-proj-6\n",
      "  return _prepare_from_string(\" \".join(pjargs))\n",
      "/Users/barkha/opt/anaconda3/envs/capstone/lib/python3.8/site-packages/pyproj/crs/crs.py:53: FutureWarning: '+init=<authority>:<code>' syntax is deprecated. '<authority>:<code>' is the preferred initialization method. When making the change, be mindful of axis order changes: https://pyproj4.github.io/pyproj/stable/gotchas.html#axis-order-changes-in-proj-6\n",
      "  return _prepare_from_string(\" \".join(pjargs))\n"
     ]
    },
    {
     "name": "stdout",
     "output_type": "stream",
     "text": [
      "   link_id  q  r     t  eid                                           geometry\n",
      "0        0  1  0  4.58    0  LINESTRING (-122.64457 38.01290, -122.64515 38...\n",
      "1        1  0  0  2.79    1  LINESTRING (-122.64457 38.01290, -122.64421 38...\n",
      "2        2  0  0  3.70    2  LINESTRING (-122.64341 38.01206, -122.64315 38...\n",
      "3        3  0  0  5.56    3  LINESTRING (-122.64341 38.01206, -122.64321 38...\n",
      "4        4  0  0  3.87    4  LINESTRING (-122.64341 38.01206, -122.64343 38...\n",
      "   link_id  q  r     t  eid                                           geometry\n",
      "0        0  1  0  4.58    0  LINESTRING (-122.64457 38.01290, -122.64515 38...\n",
      "1        1  0  0  2.79    1  LINESTRING (-122.64457 38.01290, -122.64421 38...\n",
      "2        2  0  0  3.70    2  LINESTRING (-122.64341 38.01206, -122.64315 38...\n",
      "3        3  0  0  5.56    3  LINESTRING (-122.64341 38.01206, -122.64321 38...\n",
      "4        4  0  0  3.87    4  LINESTRING (-122.64341 38.01206, -122.64343 38...\n"
     ]
    },
    {
     "name": "stderr",
     "output_type": "stream",
     "text": [
      "/Users/barkha/opt/anaconda3/envs/capstone/lib/python3.8/site-packages/pyproj/crs/crs.py:53: FutureWarning: '+init=<authority>:<code>' syntax is deprecated. '<authority>:<code>' is the preferred initialization method. When making the change, be mindful of axis order changes: https://pyproj4.github.io/pyproj/stable/gotchas.html#axis-order-changes-in-proj-6\n",
      "  return _prepare_from_string(\" \".join(pjargs))\n"
     ]
    },
    {
     "name": "stdout",
     "output_type": "stream",
     "text": [
      "   link_id  q  r     t  eid                                           geometry\n",
      "0        0  1  0  4.58    0  LINESTRING (-122.64457 38.01290, -122.64515 38...\n",
      "1        1  0  0  2.79    1  LINESTRING (-122.64457 38.01290, -122.64421 38...\n",
      "2        2  0  0  3.70    2  LINESTRING (-122.64341 38.01206, -122.64315 38...\n",
      "3        3  0  0  5.56    3  LINESTRING (-122.64341 38.01206, -122.64321 38...\n",
      "4        4  0  0  3.87    4  LINESTRING (-122.64341 38.01206, -122.64343 38...\n"
     ]
    },
    {
     "name": "stderr",
     "output_type": "stream",
     "text": [
      "/Users/barkha/opt/anaconda3/envs/capstone/lib/python3.8/site-packages/pyproj/crs/crs.py:53: FutureWarning: '+init=<authority>:<code>' syntax is deprecated. '<authority>:<code>' is the preferred initialization method. When making the change, be mindful of axis order changes: https://pyproj4.github.io/pyproj/stable/gotchas.html#axis-order-changes-in-proj-6\n",
      "  return _prepare_from_string(\" \".join(pjargs))\n"
     ]
    },
    {
     "name": "stdout",
     "output_type": "stream",
     "text": [
      "   link_id  q  r     t  eid                                           geometry\n",
      "0        0  1  0  4.58    0  LINESTRING (-122.64457 38.01290, -122.64515 38...\n",
      "1        1  0  0  2.79    1  LINESTRING (-122.64457 38.01290, -122.64421 38...\n",
      "2        2  0  0  3.70    2  LINESTRING (-122.64341 38.01206, -122.64315 38...\n",
      "3        3  0  0  5.56    3  LINESTRING (-122.64341 38.01206, -122.64321 38...\n",
      "4        4  0  0  3.87    4  LINESTRING (-122.64341 38.01206, -122.64343 38...\n"
     ]
    },
    {
     "name": "stderr",
     "output_type": "stream",
     "text": [
      "/Users/barkha/opt/anaconda3/envs/capstone/lib/python3.8/site-packages/pyproj/crs/crs.py:53: FutureWarning: '+init=<authority>:<code>' syntax is deprecated. '<authority>:<code>' is the preferred initialization method. When making the change, be mindful of axis order changes: https://pyproj4.github.io/pyproj/stable/gotchas.html#axis-order-changes-in-proj-6\n",
      "  return _prepare_from_string(\" \".join(pjargs))\n"
     ]
    },
    {
     "name": "stdout",
     "output_type": "stream",
     "text": [
      "   link_id  q  r     t  eid                                           geometry\n",
      "0        0  1  0  4.58    0  LINESTRING (-122.64457 38.01290, -122.64515 38...\n",
      "1        1  0  0  2.79    1  LINESTRING (-122.64457 38.01290, -122.64421 38...\n",
      "2        2  0  0  3.70    2  LINESTRING (-122.64341 38.01206, -122.64315 38...\n",
      "3        3  0  0  5.56    3  LINESTRING (-122.64341 38.01206, -122.64321 38...\n",
      "4        4  0  0  3.87    4  LINESTRING (-122.64341 38.01206, -122.64343 38...\n"
     ]
    },
    {
     "name": "stderr",
     "output_type": "stream",
     "text": [
      "/Users/barkha/opt/anaconda3/envs/capstone/lib/python3.8/site-packages/pyproj/crs/crs.py:53: FutureWarning: '+init=<authority>:<code>' syntax is deprecated. '<authority>:<code>' is the preferred initialization method. When making the change, be mindful of axis order changes: https://pyproj4.github.io/pyproj/stable/gotchas.html#axis-order-changes-in-proj-6\n",
      "  return _prepare_from_string(\" \".join(pjargs))\n",
      "/Users/barkha/opt/anaconda3/envs/capstone/lib/python3.8/site-packages/pyproj/crs/crs.py:53: FutureWarning: '+init=<authority>:<code>' syntax is deprecated. '<authority>:<code>' is the preferred initialization method. When making the change, be mindful of axis order changes: https://pyproj4.github.io/pyproj/stable/gotchas.html#axis-order-changes-in-proj-6\n",
      "  return _prepare_from_string(\" \".join(pjargs))\n"
     ]
    },
    {
     "name": "stdout",
     "output_type": "stream",
     "text": [
      "   link_id  q  r     t  eid                                           geometry\n",
      "0        0  1  0  4.58    0  LINESTRING (-122.64457 38.01290, -122.64515 38...\n",
      "1        1  0  0  2.79    1  LINESTRING (-122.64457 38.01290, -122.64421 38...\n",
      "2        2  0  0  3.70    2  LINESTRING (-122.64341 38.01206, -122.64315 38...\n",
      "3        3  0  0  5.56    3  LINESTRING (-122.64341 38.01206, -122.64321 38...\n",
      "4        4  0  0  3.87    4  LINESTRING (-122.64341 38.01206, -122.64343 38...\n",
      "   link_id  q  r     t  eid                                           geometry\n",
      "0        0  1  0  4.58    0  LINESTRING (-122.64457 38.01290, -122.64515 38...\n",
      "1        1  0  0  2.79    1  LINESTRING (-122.64457 38.01290, -122.64421 38...\n",
      "2        2  0  0  3.70    2  LINESTRING (-122.64341 38.01206, -122.64315 38...\n",
      "3        3  0  0  5.56    3  LINESTRING (-122.64341 38.01206, -122.64321 38...\n",
      "4        4  0  0  3.87    4  LINESTRING (-122.64341 38.01206, -122.64343 38...\n"
     ]
    },
    {
     "name": "stderr",
     "output_type": "stream",
     "text": [
      "/Users/barkha/opt/anaconda3/envs/capstone/lib/python3.8/site-packages/pyproj/crs/crs.py:53: FutureWarning: '+init=<authority>:<code>' syntax is deprecated. '<authority>:<code>' is the preferred initialization method. When making the change, be mindful of axis order changes: https://pyproj4.github.io/pyproj/stable/gotchas.html#axis-order-changes-in-proj-6\n",
      "  return _prepare_from_string(\" \".join(pjargs))\n"
     ]
    },
    {
     "name": "stdout",
     "output_type": "stream",
     "text": [
      "   link_id  q  r     t  eid                                           geometry\n",
      "0        0  1  0  4.58    0  LINESTRING (-122.64457 38.01290, -122.64515 38...\n",
      "1        1  0  0  2.79    1  LINESTRING (-122.64457 38.01290, -122.64421 38...\n",
      "2        2  0  0  3.70    2  LINESTRING (-122.64341 38.01206, -122.64315 38...\n",
      "3        3  0  0  5.56    3  LINESTRING (-122.64341 38.01206, -122.64321 38...\n",
      "4        4  0  0  3.87    4  LINESTRING (-122.64341 38.01206, -122.64343 38...\n"
     ]
    },
    {
     "name": "stderr",
     "output_type": "stream",
     "text": [
      "/Users/barkha/opt/anaconda3/envs/capstone/lib/python3.8/site-packages/pyproj/crs/crs.py:53: FutureWarning: '+init=<authority>:<code>' syntax is deprecated. '<authority>:<code>' is the preferred initialization method. When making the change, be mindful of axis order changes: https://pyproj4.github.io/pyproj/stable/gotchas.html#axis-order-changes-in-proj-6\n",
      "  return _prepare_from_string(\" \".join(pjargs))\n",
      "/Users/barkha/opt/anaconda3/envs/capstone/lib/python3.8/site-packages/pyproj/crs/crs.py:53: FutureWarning: '+init=<authority>:<code>' syntax is deprecated. '<authority>:<code>' is the preferred initialization method. When making the change, be mindful of axis order changes: https://pyproj4.github.io/pyproj/stable/gotchas.html#axis-order-changes-in-proj-6\n",
      "  return _prepare_from_string(\" \".join(pjargs))\n"
     ]
    },
    {
     "name": "stdout",
     "output_type": "stream",
     "text": [
      "   link_id  q  r     t  eid                                           geometry\n",
      "0        0  1  0  4.58    0  LINESTRING (-122.64457 38.01290, -122.64515 38...\n",
      "1        1  0  0  2.79    1  LINESTRING (-122.64457 38.01290, -122.64421 38...\n",
      "2        2  0  0  3.70    2  LINESTRING (-122.64341 38.01206, -122.64315 38...\n",
      "3        3  0  0  5.56    3  LINESTRING (-122.64341 38.01206, -122.64321 38...\n",
      "4        4  0  0  3.87    4  LINESTRING (-122.64341 38.01206, -122.64343 38...\n",
      "   link_id  q  r     t  eid                                           geometry\n",
      "0        0  1  0  4.58    0  LINESTRING (-122.64457 38.01290, -122.64515 38...\n",
      "1        1  0  0  2.79    1  LINESTRING (-122.64457 38.01290, -122.64421 38...\n",
      "2        2  0  0  3.70    2  LINESTRING (-122.64341 38.01206, -122.64315 38...\n",
      "3        3  0  0  5.56    3  LINESTRING (-122.64341 38.01206, -122.64321 38...\n",
      "4        4  0  0  3.87    4  LINESTRING (-122.64341 38.01206, -122.64343 38...\n"
     ]
    },
    {
     "name": "stderr",
     "output_type": "stream",
     "text": [
      "/Users/barkha/opt/anaconda3/envs/capstone/lib/python3.8/site-packages/pyproj/crs/crs.py:53: FutureWarning: '+init=<authority>:<code>' syntax is deprecated. '<authority>:<code>' is the preferred initialization method. When making the change, be mindful of axis order changes: https://pyproj4.github.io/pyproj/stable/gotchas.html#axis-order-changes-in-proj-6\n",
      "  return _prepare_from_string(\" \".join(pjargs))\n",
      "/Users/barkha/opt/anaconda3/envs/capstone/lib/python3.8/site-packages/pyproj/crs/crs.py:53: FutureWarning: '+init=<authority>:<code>' syntax is deprecated. '<authority>:<code>' is the preferred initialization method. When making the change, be mindful of axis order changes: https://pyproj4.github.io/pyproj/stable/gotchas.html#axis-order-changes-in-proj-6\n",
      "  return _prepare_from_string(\" \".join(pjargs))\n"
     ]
    },
    {
     "name": "stdout",
     "output_type": "stream",
     "text": [
      "   link_id  q  r     t  eid                                           geometry\n",
      "0        0  1  0  4.58    0  LINESTRING (-122.64457 38.01290, -122.64515 38...\n",
      "1        1  0  0  2.79    1  LINESTRING (-122.64457 38.01290, -122.64421 38...\n",
      "2        2  0  0  3.70    2  LINESTRING (-122.64341 38.01206, -122.64315 38...\n",
      "3        3  0  0  5.56    3  LINESTRING (-122.64341 38.01206, -122.64321 38...\n",
      "4        4  0  0  3.87    4  LINESTRING (-122.64341 38.01206, -122.64343 38...\n",
      "   link_id  q  r     t  eid                                           geometry\n",
      "0        0  1  0  4.58    0  LINESTRING (-122.64457 38.01290, -122.64515 38...\n",
      "1        1  0  0  2.79    1  LINESTRING (-122.64457 38.01290, -122.64421 38...\n",
      "2        2  0  0  3.70    2  LINESTRING (-122.64341 38.01206, -122.64315 38...\n",
      "3        3  0  0  5.56    3  LINESTRING (-122.64341 38.01206, -122.64321 38...\n",
      "4        4  0  0  3.87    4  LINESTRING (-122.64341 38.01206, -122.64343 38...\n"
     ]
    },
    {
     "name": "stderr",
     "output_type": "stream",
     "text": [
      "/Users/barkha/opt/anaconda3/envs/capstone/lib/python3.8/site-packages/pyproj/crs/crs.py:53: FutureWarning: '+init=<authority>:<code>' syntax is deprecated. '<authority>:<code>' is the preferred initialization method. When making the change, be mindful of axis order changes: https://pyproj4.github.io/pyproj/stable/gotchas.html#axis-order-changes-in-proj-6\n",
      "  return _prepare_from_string(\" \".join(pjargs))\n"
     ]
    },
    {
     "name": "stdout",
     "output_type": "stream",
     "text": [
      "   link_id  q  r     t  eid                                           geometry\n",
      "0        0  1  0  4.58    0  LINESTRING (-122.64457 38.01290, -122.64515 38...\n",
      "1        1  0  0  2.79    1  LINESTRING (-122.64457 38.01290, -122.64421 38...\n",
      "2        2  0  0  3.70    2  LINESTRING (-122.64341 38.01206, -122.64315 38...\n",
      "3        3  0  0  5.56    3  LINESTRING (-122.64341 38.01206, -122.64321 38...\n",
      "4        4  0  0  3.87    4  LINESTRING (-122.64341 38.01206, -122.64343 38...\n"
     ]
    },
    {
     "name": "stderr",
     "output_type": "stream",
     "text": [
      "/Users/barkha/opt/anaconda3/envs/capstone/lib/python3.8/site-packages/pyproj/crs/crs.py:53: FutureWarning: '+init=<authority>:<code>' syntax is deprecated. '<authority>:<code>' is the preferred initialization method. When making the change, be mindful of axis order changes: https://pyproj4.github.io/pyproj/stable/gotchas.html#axis-order-changes-in-proj-6\n",
      "  return _prepare_from_string(\" \".join(pjargs))\n"
     ]
    },
    {
     "name": "stdout",
     "output_type": "stream",
     "text": [
      "   link_id  q  r     t  eid                                           geometry\n",
      "0        0  1  0  4.58    0  LINESTRING (-122.64457 38.01290, -122.64515 38...\n",
      "1        1  0  0  2.79    1  LINESTRING (-122.64457 38.01290, -122.64421 38...\n",
      "2        2  0  0  3.70    2  LINESTRING (-122.64341 38.01206, -122.64315 38...\n",
      "3        3  0  0  5.56    3  LINESTRING (-122.64341 38.01206, -122.64321 38...\n",
      "4        4  0  0  3.87    4  LINESTRING (-122.64341 38.01206, -122.64343 38...\n"
     ]
    },
    {
     "name": "stderr",
     "output_type": "stream",
     "text": [
      "/Users/barkha/opt/anaconda3/envs/capstone/lib/python3.8/site-packages/pyproj/crs/crs.py:53: FutureWarning: '+init=<authority>:<code>' syntax is deprecated. '<authority>:<code>' is the preferred initialization method. When making the change, be mindful of axis order changes: https://pyproj4.github.io/pyproj/stable/gotchas.html#axis-order-changes-in-proj-6\n",
      "  return _prepare_from_string(\" \".join(pjargs))\n"
     ]
    },
    {
     "name": "stdout",
     "output_type": "stream",
     "text": [
      "   link_id  q  r     t  eid                                           geometry\n",
      "0        0  1  0  4.58    0  LINESTRING (-122.64457 38.01290, -122.64515 38...\n",
      "1        1  0  0  2.79    1  LINESTRING (-122.64457 38.01290, -122.64421 38...\n",
      "2        2  0  0  3.70    2  LINESTRING (-122.64341 38.01206, -122.64315 38...\n",
      "3        3  0  0  5.56    3  LINESTRING (-122.64341 38.01206, -122.64321 38...\n",
      "4        4  0  0  3.87    4  LINESTRING (-122.64341 38.01206, -122.64343 38...\n",
      "   link_id  q  r     t  eid                                           geometry\n",
      "0        0  1  0  4.58    0  LINESTRING (-122.64457 38.01290, -122.64515 38...\n",
      "1        1  0  0  2.79    1  LINESTRING (-122.64457 38.01290, -122.64421 38...\n",
      "2        2  0  0  3.70    2  LINESTRING (-122.64341 38.01206, -122.64315 38...\n",
      "3        3  0  0  5.56    3  LINESTRING (-122.64341 38.01206, -122.64321 38...\n",
      "4        4  0  0  3.87    4  LINESTRING (-122.64341 38.01206, -122.64343 38...\n"
     ]
    },
    {
     "name": "stderr",
     "output_type": "stream",
     "text": [
      "/Users/barkha/opt/anaconda3/envs/capstone/lib/python3.8/site-packages/pyproj/crs/crs.py:53: FutureWarning: '+init=<authority>:<code>' syntax is deprecated. '<authority>:<code>' is the preferred initialization method. When making the change, be mindful of axis order changes: https://pyproj4.github.io/pyproj/stable/gotchas.html#axis-order-changes-in-proj-6\n",
      "  return _prepare_from_string(\" \".join(pjargs))\n",
      "/Users/barkha/opt/anaconda3/envs/capstone/lib/python3.8/site-packages/pyproj/crs/crs.py:53: FutureWarning: '+init=<authority>:<code>' syntax is deprecated. '<authority>:<code>' is the preferred initialization method. When making the change, be mindful of axis order changes: https://pyproj4.github.io/pyproj/stable/gotchas.html#axis-order-changes-in-proj-6\n",
      "  return _prepare_from_string(\" \".join(pjargs))\n"
     ]
    },
    {
     "name": "stdout",
     "output_type": "stream",
     "text": [
      "   link_id  q  r     t  eid                                           geometry\n",
      "0        0  1  0  4.58    0  LINESTRING (-122.64457 38.01290, -122.64515 38...\n",
      "1        1  0  0  2.79    1  LINESTRING (-122.64457 38.01290, -122.64421 38...\n",
      "2        2  0  0  3.70    2  LINESTRING (-122.64341 38.01206, -122.64315 38...\n",
      "3        3  0  0  5.56    3  LINESTRING (-122.64341 38.01206, -122.64321 38...\n",
      "4        4  0  0  3.87    4  LINESTRING (-122.64341 38.01206, -122.64343 38...\n"
     ]
    },
    {
     "name": "stderr",
     "output_type": "stream",
     "text": [
      "/Users/barkha/opt/anaconda3/envs/capstone/lib/python3.8/site-packages/pyproj/crs/crs.py:53: FutureWarning: '+init=<authority>:<code>' syntax is deprecated. '<authority>:<code>' is the preferred initialization method. When making the change, be mindful of axis order changes: https://pyproj4.github.io/pyproj/stable/gotchas.html#axis-order-changes-in-proj-6\n",
      "  return _prepare_from_string(\" \".join(pjargs))\n"
     ]
    },
    {
     "name": "stdout",
     "output_type": "stream",
     "text": [
      "   link_id  q  r     t  eid                                           geometry\n",
      "0        0  1  0  4.58    0  LINESTRING (-122.64457 38.01290, -122.64515 38...\n",
      "1        1  0  0  2.79    1  LINESTRING (-122.64457 38.01290, -122.64421 38...\n",
      "2        2  0  0  3.70    2  LINESTRING (-122.64341 38.01206, -122.64315 38...\n",
      "3        3  0  0  5.56    3  LINESTRING (-122.64341 38.01206, -122.64321 38...\n",
      "4        4  0  0  3.87    4  LINESTRING (-122.64341 38.01206, -122.64343 38...\n"
     ]
    },
    {
     "name": "stderr",
     "output_type": "stream",
     "text": [
      "/Users/barkha/opt/anaconda3/envs/capstone/lib/python3.8/site-packages/pyproj/crs/crs.py:53: FutureWarning: '+init=<authority>:<code>' syntax is deprecated. '<authority>:<code>' is the preferred initialization method. When making the change, be mindful of axis order changes: https://pyproj4.github.io/pyproj/stable/gotchas.html#axis-order-changes-in-proj-6\n",
      "  return _prepare_from_string(\" \".join(pjargs))\n"
     ]
    },
    {
     "name": "stdout",
     "output_type": "stream",
     "text": [
      "   link_id  q  r     t  eid                                           geometry\n",
      "0        0  1  0  4.58    0  LINESTRING (-122.64457 38.01290, -122.64515 38...\n",
      "1        1  0  0  2.79    1  LINESTRING (-122.64457 38.01290, -122.64421 38...\n",
      "2        2  0  0  3.70    2  LINESTRING (-122.64341 38.01206, -122.64315 38...\n",
      "3        3  0  0  5.56    3  LINESTRING (-122.64341 38.01206, -122.64321 38...\n",
      "4        4  0  0  3.87    4  LINESTRING (-122.64341 38.01206, -122.64343 38...\n",
      "   link_id  q  r     t  eid                                           geometry\n",
      "0        0  1  0  4.58    0  LINESTRING (-122.64457 38.01290, -122.64515 38...\n",
      "1        1  0  0  2.79    1  LINESTRING (-122.64457 38.01290, -122.64421 38...\n",
      "2        2  0  0  3.70    2  LINESTRING (-122.64341 38.01206, -122.64315 38...\n",
      "3        3  0  0  5.56    3  LINESTRING (-122.64341 38.01206, -122.64321 38...\n",
      "4        4  0  0  3.87    4  LINESTRING (-122.64341 38.01206, -122.64343 38...\n"
     ]
    },
    {
     "name": "stderr",
     "output_type": "stream",
     "text": [
      "/Users/barkha/opt/anaconda3/envs/capstone/lib/python3.8/site-packages/pyproj/crs/crs.py:53: FutureWarning: '+init=<authority>:<code>' syntax is deprecated. '<authority>:<code>' is the preferred initialization method. When making the change, be mindful of axis order changes: https://pyproj4.github.io/pyproj/stable/gotchas.html#axis-order-changes-in-proj-6\n",
      "  return _prepare_from_string(\" \".join(pjargs))\n",
      "/Users/barkha/opt/anaconda3/envs/capstone/lib/python3.8/site-packages/pyproj/crs/crs.py:53: FutureWarning: '+init=<authority>:<code>' syntax is deprecated. '<authority>:<code>' is the preferred initialization method. When making the change, be mindful of axis order changes: https://pyproj4.github.io/pyproj/stable/gotchas.html#axis-order-changes-in-proj-6\n",
      "  return _prepare_from_string(\" \".join(pjargs))\n"
     ]
    },
    {
     "name": "stdout",
     "output_type": "stream",
     "text": [
      "   link_id  q  r     t  eid                                           geometry\n",
      "0        0  1  0  4.58    0  LINESTRING (-122.64457 38.01290, -122.64515 38...\n",
      "1        1  0  0  2.79    1  LINESTRING (-122.64457 38.01290, -122.64421 38...\n",
      "2        2  0  0  3.70    2  LINESTRING (-122.64341 38.01206, -122.64315 38...\n",
      "3        3  0  0  5.56    3  LINESTRING (-122.64341 38.01206, -122.64321 38...\n",
      "4        4  0  0  3.87    4  LINESTRING (-122.64341 38.01206, -122.64343 38...\n"
     ]
    },
    {
     "name": "stderr",
     "output_type": "stream",
     "text": [
      "/Users/barkha/opt/anaconda3/envs/capstone/lib/python3.8/site-packages/pyproj/crs/crs.py:53: FutureWarning: '+init=<authority>:<code>' syntax is deprecated. '<authority>:<code>' is the preferred initialization method. When making the change, be mindful of axis order changes: https://pyproj4.github.io/pyproj/stable/gotchas.html#axis-order-changes-in-proj-6\n",
      "  return _prepare_from_string(\" \".join(pjargs))\n"
     ]
    },
    {
     "name": "stdout",
     "output_type": "stream",
     "text": [
      "   link_id  q  r     t  eid                                           geometry\n",
      "0        0  1  0  4.58    0  LINESTRING (-122.64457 38.01290, -122.64515 38...\n",
      "1        1  0  0  2.79    1  LINESTRING (-122.64457 38.01290, -122.64421 38...\n",
      "2        2  0  0  3.70    2  LINESTRING (-122.64341 38.01206, -122.64315 38...\n",
      "3        3  0  0  5.56    3  LINESTRING (-122.64341 38.01206, -122.64321 38...\n",
      "4        4  0  0  3.87    4  LINESTRING (-122.64341 38.01206, -122.64343 38...\n"
     ]
    },
    {
     "name": "stderr",
     "output_type": "stream",
     "text": [
      "/Users/barkha/opt/anaconda3/envs/capstone/lib/python3.8/site-packages/pyproj/crs/crs.py:53: FutureWarning: '+init=<authority>:<code>' syntax is deprecated. '<authority>:<code>' is the preferred initialization method. When making the change, be mindful of axis order changes: https://pyproj4.github.io/pyproj/stable/gotchas.html#axis-order-changes-in-proj-6\n",
      "  return _prepare_from_string(\" \".join(pjargs))\n"
     ]
    },
    {
     "name": "stdout",
     "output_type": "stream",
     "text": [
      "   link_id  q  r     t  eid                                           geometry\n",
      "0        0  1  0  4.58    0  LINESTRING (-122.64457 38.01290, -122.64515 38...\n",
      "1        1  0  0  2.79    1  LINESTRING (-122.64457 38.01290, -122.64421 38...\n",
      "2        2  0  0  3.70    2  LINESTRING (-122.64341 38.01206, -122.64315 38...\n",
      "3        3  0  0  5.56    3  LINESTRING (-122.64341 38.01206, -122.64321 38...\n",
      "4        4  0  0  3.87    4  LINESTRING (-122.64341 38.01206, -122.64343 38...\n"
     ]
    },
    {
     "name": "stderr",
     "output_type": "stream",
     "text": [
      "/Users/barkha/opt/anaconda3/envs/capstone/lib/python3.8/site-packages/pyproj/crs/crs.py:53: FutureWarning: '+init=<authority>:<code>' syntax is deprecated. '<authority>:<code>' is the preferred initialization method. When making the change, be mindful of axis order changes: https://pyproj4.github.io/pyproj/stable/gotchas.html#axis-order-changes-in-proj-6\n",
      "  return _prepare_from_string(\" \".join(pjargs))\n",
      "/Users/barkha/opt/anaconda3/envs/capstone/lib/python3.8/site-packages/pyproj/crs/crs.py:53: FutureWarning: '+init=<authority>:<code>' syntax is deprecated. '<authority>:<code>' is the preferred initialization method. When making the change, be mindful of axis order changes: https://pyproj4.github.io/pyproj/stable/gotchas.html#axis-order-changes-in-proj-6\n",
      "  return _prepare_from_string(\" \".join(pjargs))\n"
     ]
    },
    {
     "name": "stdout",
     "output_type": "stream",
     "text": [
      "   link_id  q  r     t  eid                                           geometry\n",
      "0        0  1  0  4.58    0  LINESTRING (-122.64457 38.01290, -122.64515 38...\n",
      "1        1  0  0  2.79    1  LINESTRING (-122.64457 38.01290, -122.64421 38...\n",
      "2        2  0  0  3.70    2  LINESTRING (-122.64341 38.01206, -122.64315 38...\n",
      "3        3  0  0  5.56    3  LINESTRING (-122.64341 38.01206, -122.64321 38...\n",
      "4        4  0  0  3.87    4  LINESTRING (-122.64341 38.01206, -122.64343 38...\n",
      "   link_id  q  r     t  eid                                           geometry\n",
      "0        0  1  0  4.58    0  LINESTRING (-122.64457 38.01290, -122.64515 38...\n",
      "1        1  0  0  2.79    1  LINESTRING (-122.64457 38.01290, -122.64421 38...\n",
      "2        2  0  0  3.70    2  LINESTRING (-122.64341 38.01206, -122.64315 38...\n",
      "3        3  0  0  5.56    3  LINESTRING (-122.64341 38.01206, -122.64321 38...\n",
      "4        4  0  0  3.87    4  LINESTRING (-122.64341 38.01206, -122.64343 38...\n"
     ]
    },
    {
     "name": "stderr",
     "output_type": "stream",
     "text": [
      "/Users/barkha/opt/anaconda3/envs/capstone/lib/python3.8/site-packages/pyproj/crs/crs.py:53: FutureWarning: '+init=<authority>:<code>' syntax is deprecated. '<authority>:<code>' is the preferred initialization method. When making the change, be mindful of axis order changes: https://pyproj4.github.io/pyproj/stable/gotchas.html#axis-order-changes-in-proj-6\n",
      "  return _prepare_from_string(\" \".join(pjargs))\n"
     ]
    },
    {
     "name": "stdout",
     "output_type": "stream",
     "text": [
      "   link_id  q  r     t  eid                                           geometry\n",
      "0        0  1  0  4.58    0  LINESTRING (-122.64457 38.01290, -122.64515 38...\n",
      "1        1  0  0  2.79    1  LINESTRING (-122.64457 38.01290, -122.64421 38...\n",
      "2        2  0  0  3.70    2  LINESTRING (-122.64341 38.01206, -122.64315 38...\n",
      "3        3  0  0  5.56    3  LINESTRING (-122.64341 38.01206, -122.64321 38...\n",
      "4        4  0  0  3.87    4  LINESTRING (-122.64341 38.01206, -122.64343 38...\n"
     ]
    },
    {
     "name": "stderr",
     "output_type": "stream",
     "text": [
      "/Users/barkha/opt/anaconda3/envs/capstone/lib/python3.8/site-packages/pyproj/crs/crs.py:53: FutureWarning: '+init=<authority>:<code>' syntax is deprecated. '<authority>:<code>' is the preferred initialization method. When making the change, be mindful of axis order changes: https://pyproj4.github.io/pyproj/stable/gotchas.html#axis-order-changes-in-proj-6\n",
      "  return _prepare_from_string(\" \".join(pjargs))\n"
     ]
    },
    {
     "name": "stdout",
     "output_type": "stream",
     "text": [
      "   link_id  q  r     t  eid                                           geometry\n",
      "0        0  1  0  4.58    0  LINESTRING (-122.64457 38.01290, -122.64515 38...\n",
      "1        1  0  0  2.79    1  LINESTRING (-122.64457 38.01290, -122.64421 38...\n",
      "2        2  0  0  3.70    2  LINESTRING (-122.64341 38.01206, -122.64315 38...\n",
      "3        3  0  0  5.56    3  LINESTRING (-122.64341 38.01206, -122.64321 38...\n",
      "4        4  0  0  3.87    4  LINESTRING (-122.64341 38.01206, -122.64343 38...\n",
      "   link_id  q  r     t  eid                                           geometry\n",
      "0        0  1  0  4.58    0  LINESTRING (-122.64457 38.01290, -122.64515 38...\n",
      "1        1  0  0  2.79    1  LINESTRING (-122.64457 38.01290, -122.64421 38...\n",
      "2        2  0  0  3.70    2  LINESTRING (-122.64341 38.01206, -122.64315 38...\n",
      "3        3  0  0  5.56    3  LINESTRING (-122.64341 38.01206, -122.64321 38...\n",
      "4        4  0  0  3.87    4  LINESTRING (-122.64341 38.01206, -122.64343 38...\n"
     ]
    },
    {
     "name": "stderr",
     "output_type": "stream",
     "text": [
      "/Users/barkha/opt/anaconda3/envs/capstone/lib/python3.8/site-packages/pyproj/crs/crs.py:53: FutureWarning: '+init=<authority>:<code>' syntax is deprecated. '<authority>:<code>' is the preferred initialization method. When making the change, be mindful of axis order changes: https://pyproj4.github.io/pyproj/stable/gotchas.html#axis-order-changes-in-proj-6\n",
      "  return _prepare_from_string(\" \".join(pjargs))\n",
      "/Users/barkha/opt/anaconda3/envs/capstone/lib/python3.8/site-packages/pyproj/crs/crs.py:53: FutureWarning: '+init=<authority>:<code>' syntax is deprecated. '<authority>:<code>' is the preferred initialization method. When making the change, be mindful of axis order changes: https://pyproj4.github.io/pyproj/stable/gotchas.html#axis-order-changes-in-proj-6\n",
      "  return _prepare_from_string(\" \".join(pjargs))\n"
     ]
    },
    {
     "name": "stdout",
     "output_type": "stream",
     "text": [
      "   link_id  q  r     t  eid                                           geometry\n",
      "0        0  1  0  4.58    0  LINESTRING (-122.64457 38.01290, -122.64515 38...\n",
      "1        1  0  0  2.79    1  LINESTRING (-122.64457 38.01290, -122.64421 38...\n",
      "2        2  0  0  3.70    2  LINESTRING (-122.64341 38.01206, -122.64315 38...\n",
      "3        3  0  0  5.56    3  LINESTRING (-122.64341 38.01206, -122.64321 38...\n",
      "4        4  0  0  3.87    4  LINESTRING (-122.64341 38.01206, -122.64343 38...\n",
      "   link_id  q  r     t  eid                                           geometry\n",
      "0        0  1  0  4.58    0  LINESTRING (-122.64457 38.01290, -122.64515 38...\n",
      "1        1  0  0  2.79    1  LINESTRING (-122.64457 38.01290, -122.64421 38...\n",
      "2        2  0  0  3.70    2  LINESTRING (-122.64341 38.01206, -122.64315 38...\n",
      "3        3  0  0  5.56    3  LINESTRING (-122.64341 38.01206, -122.64321 38...\n",
      "4        4  0  0  3.87    4  LINESTRING (-122.64341 38.01206, -122.64343 38...\n"
     ]
    },
    {
     "name": "stderr",
     "output_type": "stream",
     "text": [
      "/Users/barkha/opt/anaconda3/envs/capstone/lib/python3.8/site-packages/pyproj/crs/crs.py:53: FutureWarning: '+init=<authority>:<code>' syntax is deprecated. '<authority>:<code>' is the preferred initialization method. When making the change, be mindful of axis order changes: https://pyproj4.github.io/pyproj/stable/gotchas.html#axis-order-changes-in-proj-6\n",
      "  return _prepare_from_string(\" \".join(pjargs))\n",
      "/Users/barkha/opt/anaconda3/envs/capstone/lib/python3.8/site-packages/pyproj/crs/crs.py:53: FutureWarning: '+init=<authority>:<code>' syntax is deprecated. '<authority>:<code>' is the preferred initialization method. When making the change, be mindful of axis order changes: https://pyproj4.github.io/pyproj/stable/gotchas.html#axis-order-changes-in-proj-6\n",
      "  return _prepare_from_string(\" \".join(pjargs))\n"
     ]
    },
    {
     "name": "stdout",
     "output_type": "stream",
     "text": [
      "   link_id  q  r     t  eid                                           geometry\n",
      "0        0  1  0  4.58    0  LINESTRING (-122.64457 38.01290, -122.64515 38...\n",
      "1        1  0  0  2.79    1  LINESTRING (-122.64457 38.01290, -122.64421 38...\n",
      "2        2  0  0  3.70    2  LINESTRING (-122.64341 38.01206, -122.64315 38...\n",
      "3        3  0  0  5.56    3  LINESTRING (-122.64341 38.01206, -122.64321 38...\n",
      "4        4  0  0  3.87    4  LINESTRING (-122.64341 38.01206, -122.64343 38...\n"
     ]
    },
    {
     "name": "stderr",
     "output_type": "stream",
     "text": [
      "/Users/barkha/opt/anaconda3/envs/capstone/lib/python3.8/site-packages/pyproj/crs/crs.py:53: FutureWarning: '+init=<authority>:<code>' syntax is deprecated. '<authority>:<code>' is the preferred initialization method. When making the change, be mindful of axis order changes: https://pyproj4.github.io/pyproj/stable/gotchas.html#axis-order-changes-in-proj-6\n",
      "  return _prepare_from_string(\" \".join(pjargs))\n"
     ]
    },
    {
     "name": "stdout",
     "output_type": "stream",
     "text": [
      "   link_id  q  r     t  eid                                           geometry\n",
      "0        0  1  0  4.58    0  LINESTRING (-122.64457 38.01290, -122.64515 38...\n",
      "1        1  0  0  2.79    1  LINESTRING (-122.64457 38.01290, -122.64421 38...\n",
      "2        2  0  0  3.70    2  LINESTRING (-122.64341 38.01206, -122.64315 38...\n",
      "3        3  0  0  5.56    3  LINESTRING (-122.64341 38.01206, -122.64321 38...\n",
      "4        4  0  0  3.87    4  LINESTRING (-122.64341 38.01206, -122.64343 38...\n"
     ]
    },
    {
     "name": "stderr",
     "output_type": "stream",
     "text": [
      "/Users/barkha/opt/anaconda3/envs/capstone/lib/python3.8/site-packages/pyproj/crs/crs.py:53: FutureWarning: '+init=<authority>:<code>' syntax is deprecated. '<authority>:<code>' is the preferred initialization method. When making the change, be mindful of axis order changes: https://pyproj4.github.io/pyproj/stable/gotchas.html#axis-order-changes-in-proj-6\n",
      "  return _prepare_from_string(\" \".join(pjargs))\n"
     ]
    },
    {
     "name": "stdout",
     "output_type": "stream",
     "text": [
      "   link_id  q  r     t  eid                                           geometry\n",
      "0        0  1  0  4.58    0  LINESTRING (-122.64457 38.01290, -122.64515 38...\n",
      "1        1  0  0  2.79    1  LINESTRING (-122.64457 38.01290, -122.64421 38...\n",
      "2        2  0  0  3.70    2  LINESTRING (-122.64341 38.01206, -122.64315 38...\n",
      "3        3  0  0  5.56    3  LINESTRING (-122.64341 38.01206, -122.64321 38...\n",
      "4        4  0  0  3.87    4  LINESTRING (-122.64341 38.01206, -122.64343 38...\n"
     ]
    },
    {
     "name": "stderr",
     "output_type": "stream",
     "text": [
      "/Users/barkha/opt/anaconda3/envs/capstone/lib/python3.8/site-packages/pyproj/crs/crs.py:53: FutureWarning: '+init=<authority>:<code>' syntax is deprecated. '<authority>:<code>' is the preferred initialization method. When making the change, be mindful of axis order changes: https://pyproj4.github.io/pyproj/stable/gotchas.html#axis-order-changes-in-proj-6\n",
      "  return _prepare_from_string(\" \".join(pjargs))\n"
     ]
    },
    {
     "name": "stdout",
     "output_type": "stream",
     "text": [
      "   link_id  q  r     t  eid                                           geometry\n",
      "0        0  1  0  4.58    0  LINESTRING (-122.64457 38.01290, -122.64515 38...\n",
      "1        1  0  0  2.79    1  LINESTRING (-122.64457 38.01290, -122.64421 38...\n",
      "2        2  0  0  3.70    2  LINESTRING (-122.64341 38.01206, -122.64315 38...\n",
      "3        3  0  0  5.56    3  LINESTRING (-122.64341 38.01206, -122.64321 38...\n",
      "4        4  0  0  3.87    4  LINESTRING (-122.64341 38.01206, -122.64343 38...\n"
     ]
    },
    {
     "name": "stderr",
     "output_type": "stream",
     "text": [
      "/Users/barkha/opt/anaconda3/envs/capstone/lib/python3.8/site-packages/pyproj/crs/crs.py:53: FutureWarning: '+init=<authority>:<code>' syntax is deprecated. '<authority>:<code>' is the preferred initialization method. When making the change, be mindful of axis order changes: https://pyproj4.github.io/pyproj/stable/gotchas.html#axis-order-changes-in-proj-6\n",
      "  return _prepare_from_string(\" \".join(pjargs))\n"
     ]
    },
    {
     "name": "stdout",
     "output_type": "stream",
     "text": [
      "   link_id  q  r     t  eid                                           geometry\n",
      "0        0  1  0  4.58    0  LINESTRING (-122.64457 38.01290, -122.64515 38...\n",
      "1        1  0  0  2.79    1  LINESTRING (-122.64457 38.01290, -122.64421 38...\n",
      "2        2  0  0  3.70    2  LINESTRING (-122.64341 38.01206, -122.64315 38...\n",
      "3        3  0  0  5.56    3  LINESTRING (-122.64341 38.01206, -122.64321 38...\n",
      "4        4  0  0  3.87    4  LINESTRING (-122.64341 38.01206, -122.64343 38...\n"
     ]
    },
    {
     "name": "stderr",
     "output_type": "stream",
     "text": [
      "/Users/barkha/opt/anaconda3/envs/capstone/lib/python3.8/site-packages/pyproj/crs/crs.py:53: FutureWarning: '+init=<authority>:<code>' syntax is deprecated. '<authority>:<code>' is the preferred initialization method. When making the change, be mindful of axis order changes: https://pyproj4.github.io/pyproj/stable/gotchas.html#axis-order-changes-in-proj-6\n",
      "  return _prepare_from_string(\" \".join(pjargs))\n"
     ]
    },
    {
     "name": "stdout",
     "output_type": "stream",
     "text": [
      "   link_id  q  r     t  eid                                           geometry\n",
      "0        0  1  0  4.58    0  LINESTRING (-122.64457 38.01290, -122.64515 38...\n",
      "1        1  0  0  2.79    1  LINESTRING (-122.64457 38.01290, -122.64421 38...\n",
      "2        2  0  0  3.70    2  LINESTRING (-122.64341 38.01206, -122.64315 38...\n",
      "3        3  0  0  5.56    3  LINESTRING (-122.64341 38.01206, -122.64321 38...\n",
      "4        4  0  0  3.87    4  LINESTRING (-122.64341 38.01206, -122.64343 38...\n"
     ]
    },
    {
     "name": "stderr",
     "output_type": "stream",
     "text": [
      "/Users/barkha/opt/anaconda3/envs/capstone/lib/python3.8/site-packages/pyproj/crs/crs.py:53: FutureWarning: '+init=<authority>:<code>' syntax is deprecated. '<authority>:<code>' is the preferred initialization method. When making the change, be mindful of axis order changes: https://pyproj4.github.io/pyproj/stable/gotchas.html#axis-order-changes-in-proj-6\n",
      "  return _prepare_from_string(\" \".join(pjargs))\n",
      "/Users/barkha/opt/anaconda3/envs/capstone/lib/python3.8/site-packages/pyproj/crs/crs.py:53: FutureWarning: '+init=<authority>:<code>' syntax is deprecated. '<authority>:<code>' is the preferred initialization method. When making the change, be mindful of axis order changes: https://pyproj4.github.io/pyproj/stable/gotchas.html#axis-order-changes-in-proj-6\n",
      "  return _prepare_from_string(\" \".join(pjargs))\n"
     ]
    },
    {
     "name": "stdout",
     "output_type": "stream",
     "text": [
      "   link_id  q  r     t  eid                                           geometry\n",
      "0        0  1  0  4.58    0  LINESTRING (-122.64457 38.01290, -122.64515 38...\n",
      "1        1  0  0  2.79    1  LINESTRING (-122.64457 38.01290, -122.64421 38...\n",
      "2        2  0  0  3.70    2  LINESTRING (-122.64341 38.01206, -122.64315 38...\n",
      "3        3  0  0  5.56    3  LINESTRING (-122.64341 38.01206, -122.64321 38...\n",
      "4        4  0  0  3.87    4  LINESTRING (-122.64341 38.01206, -122.64343 38...\n",
      "   link_id  q  r     t  eid                                           geometry\n",
      "0        0  1  0  4.58    0  LINESTRING (-122.64457 38.01290, -122.64515 38...\n",
      "1        1  0  0  2.79    1  LINESTRING (-122.64457 38.01290, -122.64421 38...\n",
      "2        2  0  0  3.70    2  LINESTRING (-122.64341 38.01206, -122.64315 38...\n",
      "3        3  0  0  5.56    3  LINESTRING (-122.64341 38.01206, -122.64321 38...\n",
      "4        4  0  0  3.87    4  LINESTRING (-122.64341 38.01206, -122.64343 38...\n",
      "   link_id  q  r     t  eid                                           geometry\n",
      "0        0  1  0  4.58    0  LINESTRING (-122.64457 38.01290, -122.64515 38...\n",
      "1        1  0  0  2.79    1  LINESTRING (-122.64457 38.01290, -122.64421 38...\n",
      "2        2  0  0  3.70    2  LINESTRING (-122.64341 38.01206, -122.64315 38...\n",
      "3        3  0  0  5.56    3  LINESTRING (-122.64341 38.01206, -122.64321 38...\n",
      "4        4  0  0  3.87    4  LINESTRING (-122.64341 38.01206, -122.64343 38...\n"
     ]
    },
    {
     "name": "stderr",
     "output_type": "stream",
     "text": [
      "/Users/barkha/opt/anaconda3/envs/capstone/lib/python3.8/site-packages/pyproj/crs/crs.py:53: FutureWarning: '+init=<authority>:<code>' syntax is deprecated. '<authority>:<code>' is the preferred initialization method. When making the change, be mindful of axis order changes: https://pyproj4.github.io/pyproj/stable/gotchas.html#axis-order-changes-in-proj-6\n",
      "  return _prepare_from_string(\" \".join(pjargs))\n",
      "/Users/barkha/opt/anaconda3/envs/capstone/lib/python3.8/site-packages/pyproj/crs/crs.py:53: FutureWarning: '+init=<authority>:<code>' syntax is deprecated. '<authority>:<code>' is the preferred initialization method. When making the change, be mindful of axis order changes: https://pyproj4.github.io/pyproj/stable/gotchas.html#axis-order-changes-in-proj-6\n",
      "  return _prepare_from_string(\" \".join(pjargs))\n"
     ]
    },
    {
     "name": "stdout",
     "output_type": "stream",
     "text": [
      "   link_id  q  r     t  eid                                           geometry\n",
      "0        0  1  0  4.58    0  LINESTRING (-122.64457 38.01290, -122.64515 38...\n",
      "1        1  0  0  2.79    1  LINESTRING (-122.64457 38.01290, -122.64421 38...\n",
      "2        2  0  0  3.70    2  LINESTRING (-122.64341 38.01206, -122.64315 38...\n",
      "3        3  0  0  5.56    3  LINESTRING (-122.64341 38.01206, -122.64321 38...\n",
      "4        4  0  0  3.87    4  LINESTRING (-122.64341 38.01206, -122.64343 38...\n",
      "   link_id  q  r     t  eid                                           geometry\n",
      "0        0  1  0  4.58    0  LINESTRING (-122.64457 38.01290, -122.64515 38...\n",
      "1        1  0  0  2.79    1  LINESTRING (-122.64457 38.01290, -122.64421 38...\n",
      "2        2  0  0  3.70    2  LINESTRING (-122.64341 38.01206, -122.64315 38...\n",
      "3        3  0  0  5.56    3  LINESTRING (-122.64341 38.01206, -122.64321 38...\n",
      "4        4  0  0  3.87    4  LINESTRING (-122.64341 38.01206, -122.64343 38...\n"
     ]
    },
    {
     "name": "stderr",
     "output_type": "stream",
     "text": [
      "/Users/barkha/opt/anaconda3/envs/capstone/lib/python3.8/site-packages/pyproj/crs/crs.py:53: FutureWarning: '+init=<authority>:<code>' syntax is deprecated. '<authority>:<code>' is the preferred initialization method. When making the change, be mindful of axis order changes: https://pyproj4.github.io/pyproj/stable/gotchas.html#axis-order-changes-in-proj-6\n",
      "  return _prepare_from_string(\" \".join(pjargs))\n",
      "/Users/barkha/opt/anaconda3/envs/capstone/lib/python3.8/site-packages/pyproj/crs/crs.py:53: FutureWarning: '+init=<authority>:<code>' syntax is deprecated. '<authority>:<code>' is the preferred initialization method. When making the change, be mindful of axis order changes: https://pyproj4.github.io/pyproj/stable/gotchas.html#axis-order-changes-in-proj-6\n",
      "  return _prepare_from_string(\" \".join(pjargs))\n"
     ]
    },
    {
     "name": "stdout",
     "output_type": "stream",
     "text": [
      "   link_id  q  r     t  eid                                           geometry\n",
      "0        0  1  0  4.58    0  LINESTRING (-122.64457 38.01290, -122.64515 38...\n",
      "1        1  0  0  2.79    1  LINESTRING (-122.64457 38.01290, -122.64421 38...\n",
      "2        2  0  0  3.70    2  LINESTRING (-122.64341 38.01206, -122.64315 38...\n",
      "3        3  0  0  5.56    3  LINESTRING (-122.64341 38.01206, -122.64321 38...\n",
      "4        4  0  0  3.87    4  LINESTRING (-122.64341 38.01206, -122.64343 38...\n"
     ]
    },
    {
     "name": "stderr",
     "output_type": "stream",
     "text": [
      "/Users/barkha/opt/anaconda3/envs/capstone/lib/python3.8/site-packages/pyproj/crs/crs.py:53: FutureWarning: '+init=<authority>:<code>' syntax is deprecated. '<authority>:<code>' is the preferred initialization method. When making the change, be mindful of axis order changes: https://pyproj4.github.io/pyproj/stable/gotchas.html#axis-order-changes-in-proj-6\n",
      "  return _prepare_from_string(\" \".join(pjargs))\n"
     ]
    },
    {
     "name": "stdout",
     "output_type": "stream",
     "text": [
      "   link_id  q  r     t  eid                                           geometry\n",
      "0        0  1  0  4.58    0  LINESTRING (-122.64457 38.01290, -122.64515 38...\n",
      "1        1  0  0  2.79    1  LINESTRING (-122.64457 38.01290, -122.64421 38...\n",
      "2        2  0  0  3.70    2  LINESTRING (-122.64341 38.01206, -122.64315 38...\n",
      "3        3  0  0  5.56    3  LINESTRING (-122.64341 38.01206, -122.64321 38...\n",
      "4        4  0  0  3.87    4  LINESTRING (-122.64341 38.01206, -122.64343 38...\n"
     ]
    },
    {
     "name": "stderr",
     "output_type": "stream",
     "text": [
      "/Users/barkha/opt/anaconda3/envs/capstone/lib/python3.8/site-packages/pyproj/crs/crs.py:53: FutureWarning: '+init=<authority>:<code>' syntax is deprecated. '<authority>:<code>' is the preferred initialization method. When making the change, be mindful of axis order changes: https://pyproj4.github.io/pyproj/stable/gotchas.html#axis-order-changes-in-proj-6\n",
      "  return _prepare_from_string(\" \".join(pjargs))\n",
      "/Users/barkha/opt/anaconda3/envs/capstone/lib/python3.8/site-packages/pyproj/crs/crs.py:53: FutureWarning: '+init=<authority>:<code>' syntax is deprecated. '<authority>:<code>' is the preferred initialization method. When making the change, be mindful of axis order changes: https://pyproj4.github.io/pyproj/stable/gotchas.html#axis-order-changes-in-proj-6\n",
      "  return _prepare_from_string(\" \".join(pjargs))\n"
     ]
    },
    {
     "name": "stdout",
     "output_type": "stream",
     "text": [
      "   link_id  q  r     t  eid                                           geometry\n",
      "0        0  1  0  4.58    0  LINESTRING (-122.64457 38.01290, -122.64515 38...\n",
      "1        1  0  0  2.79    1  LINESTRING (-122.64457 38.01290, -122.64421 38...\n",
      "2        2  0  0  3.70    2  LINESTRING (-122.64341 38.01206, -122.64315 38...\n",
      "3        3  0  0  5.56    3  LINESTRING (-122.64341 38.01206, -122.64321 38...\n",
      "4        4  0  0  3.87    4  LINESTRING (-122.64341 38.01206, -122.64343 38...\n",
      "   link_id  q  r     t  eid                                           geometry\n",
      "0        0  1  0  4.58    0  LINESTRING (-122.64457 38.01290, -122.64515 38...\n",
      "1        1  0  0  2.79    1  LINESTRING (-122.64457 38.01290, -122.64421 38...\n",
      "2        2  0  0  3.70    2  LINESTRING (-122.64341 38.01206, -122.64315 38...\n",
      "3        3  0  0  5.56    3  LINESTRING (-122.64341 38.01206, -122.64321 38...\n",
      "4        4  0  0  3.87    4  LINESTRING (-122.64341 38.01206, -122.64343 38...\n"
     ]
    },
    {
     "name": "stderr",
     "output_type": "stream",
     "text": [
      "/Users/barkha/opt/anaconda3/envs/capstone/lib/python3.8/site-packages/pyproj/crs/crs.py:53: FutureWarning: '+init=<authority>:<code>' syntax is deprecated. '<authority>:<code>' is the preferred initialization method. When making the change, be mindful of axis order changes: https://pyproj4.github.io/pyproj/stable/gotchas.html#axis-order-changes-in-proj-6\n",
      "  return _prepare_from_string(\" \".join(pjargs))\n",
      "/Users/barkha/opt/anaconda3/envs/capstone/lib/python3.8/site-packages/pyproj/crs/crs.py:53: FutureWarning: '+init=<authority>:<code>' syntax is deprecated. '<authority>:<code>' is the preferred initialization method. When making the change, be mindful of axis order changes: https://pyproj4.github.io/pyproj/stable/gotchas.html#axis-order-changes-in-proj-6\n",
      "  return _prepare_from_string(\" \".join(pjargs))\n"
     ]
    },
    {
     "name": "stdout",
     "output_type": "stream",
     "text": [
      "   link_id  q  r     t  eid                                           geometry\n",
      "0        0  1  0  4.58    0  LINESTRING (-122.64457 38.01290, -122.64515 38...\n",
      "1        1  0  0  2.79    1  LINESTRING (-122.64457 38.01290, -122.64421 38...\n",
      "2        2  0  0  3.70    2  LINESTRING (-122.64341 38.01206, -122.64315 38...\n",
      "3        3  0  0  5.56    3  LINESTRING (-122.64341 38.01206, -122.64321 38...\n",
      "4        4  0  0  3.87    4  LINESTRING (-122.64341 38.01206, -122.64343 38...\n",
      "   link_id  q  r     t  eid                                           geometry\n",
      "0        0  1  0  4.58    0  LINESTRING (-122.64457 38.01290, -122.64515 38...\n",
      "1        1  0  0  2.79    1  LINESTRING (-122.64457 38.01290, -122.64421 38...\n",
      "2        2  0  0  3.70    2  LINESTRING (-122.64341 38.01206, -122.64315 38...\n",
      "3        3  0  0  5.56    3  LINESTRING (-122.64341 38.01206, -122.64321 38...\n",
      "4        4  0  0  3.87    4  LINESTRING (-122.64341 38.01206, -122.64343 38...\n"
     ]
    },
    {
     "name": "stderr",
     "output_type": "stream",
     "text": [
      "/Users/barkha/opt/anaconda3/envs/capstone/lib/python3.8/site-packages/pyproj/crs/crs.py:53: FutureWarning: '+init=<authority>:<code>' syntax is deprecated. '<authority>:<code>' is the preferred initialization method. When making the change, be mindful of axis order changes: https://pyproj4.github.io/pyproj/stable/gotchas.html#axis-order-changes-in-proj-6\n",
      "  return _prepare_from_string(\" \".join(pjargs))\n"
     ]
    },
    {
     "name": "stdout",
     "output_type": "stream",
     "text": [
      "   link_id  q  r     t  eid                                           geometry\n",
      "0        0  1  0  4.58    0  LINESTRING (-122.64457 38.01290, -122.64515 38...\n",
      "1        1  0  0  2.79    1  LINESTRING (-122.64457 38.01290, -122.64421 38...\n",
      "2        2  0  0  3.70    2  LINESTRING (-122.64341 38.01206, -122.64315 38...\n",
      "3        3  0  0  5.56    3  LINESTRING (-122.64341 38.01206, -122.64321 38...\n",
      "4        4  0  0  3.87    4  LINESTRING (-122.64341 38.01206, -122.64343 38...\n"
     ]
    },
    {
     "name": "stderr",
     "output_type": "stream",
     "text": [
      "/Users/barkha/opt/anaconda3/envs/capstone/lib/python3.8/site-packages/pyproj/crs/crs.py:53: FutureWarning: '+init=<authority>:<code>' syntax is deprecated. '<authority>:<code>' is the preferred initialization method. When making the change, be mindful of axis order changes: https://pyproj4.github.io/pyproj/stable/gotchas.html#axis-order-changes-in-proj-6\n",
      "  return _prepare_from_string(\" \".join(pjargs))\n"
     ]
    },
    {
     "name": "stdout",
     "output_type": "stream",
     "text": [
      "   link_id  q  r     t  eid                                           geometry\n",
      "0        0  1  0  4.58    0  LINESTRING (-122.64457 38.01290, -122.64515 38...\n",
      "1        1  0  0  2.79    1  LINESTRING (-122.64457 38.01290, -122.64421 38...\n",
      "2        2  0  0  3.70    2  LINESTRING (-122.64341 38.01206, -122.64315 38...\n",
      "3        3  0  0  5.56    3  LINESTRING (-122.64341 38.01206, -122.64321 38...\n",
      "4        4  0  0  3.87    4  LINESTRING (-122.64341 38.01206, -122.64343 38...\n",
      "   link_id  q  r     t  eid                                           geometry\n",
      "0        0  1  0  4.58    0  LINESTRING (-122.64457 38.01290, -122.64515 38...\n",
      "1        1  0  0  2.79    1  LINESTRING (-122.64457 38.01290, -122.64421 38...\n",
      "2        2  0  0  3.70    2  LINESTRING (-122.64341 38.01206, -122.64315 38...\n",
      "3        3  0  0  5.56    3  LINESTRING (-122.64341 38.01206, -122.64321 38...\n",
      "4        4  0  0  3.87    4  LINESTRING (-122.64341 38.01206, -122.64343 38...\n"
     ]
    },
    {
     "name": "stderr",
     "output_type": "stream",
     "text": [
      "/Users/barkha/opt/anaconda3/envs/capstone/lib/python3.8/site-packages/pyproj/crs/crs.py:53: FutureWarning: '+init=<authority>:<code>' syntax is deprecated. '<authority>:<code>' is the preferred initialization method. When making the change, be mindful of axis order changes: https://pyproj4.github.io/pyproj/stable/gotchas.html#axis-order-changes-in-proj-6\n",
      "  return _prepare_from_string(\" \".join(pjargs))\n",
      "/Users/barkha/opt/anaconda3/envs/capstone/lib/python3.8/site-packages/pyproj/crs/crs.py:53: FutureWarning: '+init=<authority>:<code>' syntax is deprecated. '<authority>:<code>' is the preferred initialization method. When making the change, be mindful of axis order changes: https://pyproj4.github.io/pyproj/stable/gotchas.html#axis-order-changes-in-proj-6\n",
      "  return _prepare_from_string(\" \".join(pjargs))\n"
     ]
    },
    {
     "name": "stdout",
     "output_type": "stream",
     "text": [
      "   link_id  q  r     t  eid                                           geometry\n",
      "0        0  1  0  4.58    0  LINESTRING (-122.64457 38.01290, -122.64515 38...\n",
      "1        1  0  0  2.79    1  LINESTRING (-122.64457 38.01290, -122.64421 38...\n",
      "2        2  0  0  3.70    2  LINESTRING (-122.64341 38.01206, -122.64315 38...\n",
      "3        3  0  0  5.56    3  LINESTRING (-122.64341 38.01206, -122.64321 38...\n",
      "4        4  0  0  3.87    4  LINESTRING (-122.64341 38.01206, -122.64343 38...\n"
     ]
    },
    {
     "name": "stderr",
     "output_type": "stream",
     "text": [
      "/Users/barkha/opt/anaconda3/envs/capstone/lib/python3.8/site-packages/pyproj/crs/crs.py:53: FutureWarning: '+init=<authority>:<code>' syntax is deprecated. '<authority>:<code>' is the preferred initialization method. When making the change, be mindful of axis order changes: https://pyproj4.github.io/pyproj/stable/gotchas.html#axis-order-changes-in-proj-6\n",
      "  return _prepare_from_string(\" \".join(pjargs))\n",
      "/Users/barkha/opt/anaconda3/envs/capstone/lib/python3.8/site-packages/pyproj/crs/crs.py:53: FutureWarning: '+init=<authority>:<code>' syntax is deprecated. '<authority>:<code>' is the preferred initialization method. When making the change, be mindful of axis order changes: https://pyproj4.github.io/pyproj/stable/gotchas.html#axis-order-changes-in-proj-6\n",
      "  return _prepare_from_string(\" \".join(pjargs))\n"
     ]
    },
    {
     "name": "stdout",
     "output_type": "stream",
     "text": [
      "   link_id  q  r     t  eid                                           geometry\n",
      "0        0  1  0  4.58    0  LINESTRING (-122.64457 38.01290, -122.64515 38...\n",
      "1        1  0  0  2.79    1  LINESTRING (-122.64457 38.01290, -122.64421 38...\n",
      "2        2  0  0  3.70    2  LINESTRING (-122.64341 38.01206, -122.64315 38...\n",
      "3        3  0  0  5.56    3  LINESTRING (-122.64341 38.01206, -122.64321 38...\n",
      "4        4  0  0  3.87    4  LINESTRING (-122.64341 38.01206, -122.64343 38...\n",
      "   link_id  q  r     t  eid                                           geometry\n",
      "0        0  1  0  4.58    0  LINESTRING (-122.64457 38.01290, -122.64515 38...\n",
      "1        1  0  0  2.79    1  LINESTRING (-122.64457 38.01290, -122.64421 38...\n",
      "2        2  0  0  3.70    2  LINESTRING (-122.64341 38.01206, -122.64315 38...\n",
      "3        3  0  0  5.56    3  LINESTRING (-122.64341 38.01206, -122.64321 38...\n",
      "4        4  0  0  3.87    4  LINESTRING (-122.64341 38.01206, -122.64343 38...\n"
     ]
    },
    {
     "name": "stderr",
     "output_type": "stream",
     "text": [
      "/Users/barkha/opt/anaconda3/envs/capstone/lib/python3.8/site-packages/pyproj/crs/crs.py:53: FutureWarning: '+init=<authority>:<code>' syntax is deprecated. '<authority>:<code>' is the preferred initialization method. When making the change, be mindful of axis order changes: https://pyproj4.github.io/pyproj/stable/gotchas.html#axis-order-changes-in-proj-6\n",
      "  return _prepare_from_string(\" \".join(pjargs))\n",
      "/Users/barkha/opt/anaconda3/envs/capstone/lib/python3.8/site-packages/pyproj/crs/crs.py:53: FutureWarning: '+init=<authority>:<code>' syntax is deprecated. '<authority>:<code>' is the preferred initialization method. When making the change, be mindful of axis order changes: https://pyproj4.github.io/pyproj/stable/gotchas.html#axis-order-changes-in-proj-6\n",
      "  return _prepare_from_string(\" \".join(pjargs))\n"
     ]
    },
    {
     "name": "stdout",
     "output_type": "stream",
     "text": [
      "   link_id  q  r     t  eid                                           geometry\n",
      "0        0  1  0  4.58    0  LINESTRING (-122.64457 38.01290, -122.64515 38...\n",
      "1        1  0  0  2.79    1  LINESTRING (-122.64457 38.01290, -122.64421 38...\n",
      "2        2  0  0  3.70    2  LINESTRING (-122.64341 38.01206, -122.64315 38...\n",
      "3        3  0  0  5.56    3  LINESTRING (-122.64341 38.01206, -122.64321 38...\n",
      "4        4  0  0  3.87    4  LINESTRING (-122.64341 38.01206, -122.64343 38...\n",
      "   link_id  q  r     t  eid                                           geometry\n",
      "0        0  1  0  4.58    0  LINESTRING (-122.64457 38.01290, -122.64515 38...\n",
      "1        1  0  0  2.79    1  LINESTRING (-122.64457 38.01290, -122.64421 38...\n",
      "2        2  0  0  3.70    2  LINESTRING (-122.64341 38.01206, -122.64315 38...\n",
      "3        3  0  0  5.56    3  LINESTRING (-122.64341 38.01206, -122.64321 38...\n",
      "4        4  0  0  3.87    4  LINESTRING (-122.64341 38.01206, -122.64343 38...\n"
     ]
    },
    {
     "name": "stderr",
     "output_type": "stream",
     "text": [
      "/Users/barkha/opt/anaconda3/envs/capstone/lib/python3.8/site-packages/pyproj/crs/crs.py:53: FutureWarning: '+init=<authority>:<code>' syntax is deprecated. '<authority>:<code>' is the preferred initialization method. When making the change, be mindful of axis order changes: https://pyproj4.github.io/pyproj/stable/gotchas.html#axis-order-changes-in-proj-6\n",
      "  return _prepare_from_string(\" \".join(pjargs))\n"
     ]
    },
    {
     "name": "stdout",
     "output_type": "stream",
     "text": [
      "   link_id  q  r     t  eid                                           geometry\n",
      "0        0  1  0  4.58    0  LINESTRING (-122.64457 38.01290, -122.64515 38...\n",
      "1        1  0  0  2.79    1  LINESTRING (-122.64457 38.01290, -122.64421 38...\n",
      "2        2  0  0  3.70    2  LINESTRING (-122.64341 38.01206, -122.64315 38...\n",
      "3        3  0  0  5.56    3  LINESTRING (-122.64341 38.01206, -122.64321 38...\n",
      "4        4  0  0  3.87    4  LINESTRING (-122.64341 38.01206, -122.64343 38...\n",
      "   link_id  q  r     t  eid                                           geometry\n",
      "0        0  1  0  4.58    0  LINESTRING (-122.64457 38.01290, -122.64515 38...\n",
      "1        1  0  0  2.79    1  LINESTRING (-122.64457 38.01290, -122.64421 38...\n",
      "2        2  0  0  3.70    2  LINESTRING (-122.64341 38.01206, -122.64315 38...\n",
      "3        3  0  0  5.56    3  LINESTRING (-122.64341 38.01206, -122.64321 38...\n",
      "4        4  0  0  3.87    4  LINESTRING (-122.64341 38.01206, -122.64343 38...\n"
     ]
    },
    {
     "name": "stderr",
     "output_type": "stream",
     "text": [
      "/Users/barkha/opt/anaconda3/envs/capstone/lib/python3.8/site-packages/pyproj/crs/crs.py:53: FutureWarning: '+init=<authority>:<code>' syntax is deprecated. '<authority>:<code>' is the preferred initialization method. When making the change, be mindful of axis order changes: https://pyproj4.github.io/pyproj/stable/gotchas.html#axis-order-changes-in-proj-6\n",
      "  return _prepare_from_string(\" \".join(pjargs))\n",
      "/Users/barkha/opt/anaconda3/envs/capstone/lib/python3.8/site-packages/pyproj/crs/crs.py:53: FutureWarning: '+init=<authority>:<code>' syntax is deprecated. '<authority>:<code>' is the preferred initialization method. When making the change, be mindful of axis order changes: https://pyproj4.github.io/pyproj/stable/gotchas.html#axis-order-changes-in-proj-6\n",
      "  return _prepare_from_string(\" \".join(pjargs))\n"
     ]
    },
    {
     "name": "stdout",
     "output_type": "stream",
     "text": [
      "   link_id  q  r     t  eid                                           geometry\n",
      "0        0  1  0  4.58    0  LINESTRING (-122.64457 38.01290, -122.64515 38...\n",
      "1        1  0  0  2.79    1  LINESTRING (-122.64457 38.01290, -122.64421 38...\n",
      "2        2  0  0  3.70    2  LINESTRING (-122.64341 38.01206, -122.64315 38...\n",
      "3        3  0  0  5.56    3  LINESTRING (-122.64341 38.01206, -122.64321 38...\n",
      "4        4  0  0  3.87    4  LINESTRING (-122.64341 38.01206, -122.64343 38...\n",
      "   link_id  q  r     t  eid                                           geometry\n",
      "0        0  1  0  4.58    0  LINESTRING (-122.64457 38.01290, -122.64515 38...\n",
      "1        1  0  0  2.79    1  LINESTRING (-122.64457 38.01290, -122.64421 38...\n",
      "2        2  0  0  3.70    2  LINESTRING (-122.64341 38.01206, -122.64315 38...\n",
      "3        3  0  0  5.56    3  LINESTRING (-122.64341 38.01206, -122.64321 38...\n",
      "4        4  0  0  3.87    4  LINESTRING (-122.64341 38.01206, -122.64343 38...\n"
     ]
    },
    {
     "name": "stderr",
     "output_type": "stream",
     "text": [
      "/Users/barkha/opt/anaconda3/envs/capstone/lib/python3.8/site-packages/pyproj/crs/crs.py:53: FutureWarning: '+init=<authority>:<code>' syntax is deprecated. '<authority>:<code>' is the preferred initialization method. When making the change, be mindful of axis order changes: https://pyproj4.github.io/pyproj/stable/gotchas.html#axis-order-changes-in-proj-6\n",
      "  return _prepare_from_string(\" \".join(pjargs))\n",
      "/Users/barkha/opt/anaconda3/envs/capstone/lib/python3.8/site-packages/pyproj/crs/crs.py:53: FutureWarning: '+init=<authority>:<code>' syntax is deprecated. '<authority>:<code>' is the preferred initialization method. When making the change, be mindful of axis order changes: https://pyproj4.github.io/pyproj/stable/gotchas.html#axis-order-changes-in-proj-6\n",
      "  return _prepare_from_string(\" \".join(pjargs))\n"
     ]
    },
    {
     "name": "stdout",
     "output_type": "stream",
     "text": [
      "   link_id  q  r     t  eid                                           geometry\n",
      "0        0  1  0  4.58    0  LINESTRING (-122.64457 38.01290, -122.64515 38...\n",
      "1        1  0  0  2.79    1  LINESTRING (-122.64457 38.01290, -122.64421 38...\n",
      "2        2  0  0  3.70    2  LINESTRING (-122.64341 38.01206, -122.64315 38...\n",
      "3        3  0  0  5.56    3  LINESTRING (-122.64341 38.01206, -122.64321 38...\n",
      "4        4  0  0  3.87    4  LINESTRING (-122.64341 38.01206, -122.64343 38...\n"
     ]
    },
    {
     "name": "stderr",
     "output_type": "stream",
     "text": [
      "/Users/barkha/opt/anaconda3/envs/capstone/lib/python3.8/site-packages/pyproj/crs/crs.py:53: FutureWarning: '+init=<authority>:<code>' syntax is deprecated. '<authority>:<code>' is the preferred initialization method. When making the change, be mindful of axis order changes: https://pyproj4.github.io/pyproj/stable/gotchas.html#axis-order-changes-in-proj-6\n",
      "  return _prepare_from_string(\" \".join(pjargs))\n",
      "/Users/barkha/opt/anaconda3/envs/capstone/lib/python3.8/site-packages/pyproj/crs/crs.py:53: FutureWarning: '+init=<authority>:<code>' syntax is deprecated. '<authority>:<code>' is the preferred initialization method. When making the change, be mindful of axis order changes: https://pyproj4.github.io/pyproj/stable/gotchas.html#axis-order-changes-in-proj-6\n",
      "  return _prepare_from_string(\" \".join(pjargs))\n"
     ]
    },
    {
     "name": "stdout",
     "output_type": "stream",
     "text": [
      "   link_id  q  r     t  eid                                           geometry\n",
      "0        0  1  0  4.58    0  LINESTRING (-122.64457 38.01290, -122.64515 38...\n",
      "1        1  0  0  2.79    1  LINESTRING (-122.64457 38.01290, -122.64421 38...\n",
      "2        2  0  0  3.70    2  LINESTRING (-122.64341 38.01206, -122.64315 38...\n",
      "3        3  0  0  5.56    3  LINESTRING (-122.64341 38.01206, -122.64321 38...\n",
      "4        4  0  0  3.87    4  LINESTRING (-122.64341 38.01206, -122.64343 38...\n",
      "   link_id  q  r     t  eid                                           geometry\n",
      "0        0  1  0  4.58    0  LINESTRING (-122.64457 38.01290, -122.64515 38...\n",
      "1        1  0  0  2.79    1  LINESTRING (-122.64457 38.01290, -122.64421 38...\n",
      "2        2  0  0  3.70    2  LINESTRING (-122.64341 38.01206, -122.64315 38...\n",
      "3        3  0  0  5.56    3  LINESTRING (-122.64341 38.01206, -122.64321 38...\n",
      "4        4  0  0  3.87    4  LINESTRING (-122.64341 38.01206, -122.64343 38...\n"
     ]
    },
    {
     "name": "stderr",
     "output_type": "stream",
     "text": [
      "/Users/barkha/opt/anaconda3/envs/capstone/lib/python3.8/site-packages/pyproj/crs/crs.py:53: FutureWarning: '+init=<authority>:<code>' syntax is deprecated. '<authority>:<code>' is the preferred initialization method. When making the change, be mindful of axis order changes: https://pyproj4.github.io/pyproj/stable/gotchas.html#axis-order-changes-in-proj-6\n",
      "  return _prepare_from_string(\" \".join(pjargs))\n",
      "/Users/barkha/opt/anaconda3/envs/capstone/lib/python3.8/site-packages/pyproj/crs/crs.py:53: FutureWarning: '+init=<authority>:<code>' syntax is deprecated. '<authority>:<code>' is the preferred initialization method. When making the change, be mindful of axis order changes: https://pyproj4.github.io/pyproj/stable/gotchas.html#axis-order-changes-in-proj-6\n",
      "  return _prepare_from_string(\" \".join(pjargs))\n"
     ]
    },
    {
     "name": "stdout",
     "output_type": "stream",
     "text": [
      "   link_id  q  r     t  eid                                           geometry\n",
      "0        0  1  0  4.58    0  LINESTRING (-122.64457 38.01290, -122.64515 38...\n",
      "1        1  0  0  2.79    1  LINESTRING (-122.64457 38.01290, -122.64421 38...\n",
      "2        2  0  0  3.70    2  LINESTRING (-122.64341 38.01206, -122.64315 38...\n",
      "3        3  0  0  5.56    3  LINESTRING (-122.64341 38.01206, -122.64321 38...\n",
      "4        4  0  0  3.87    4  LINESTRING (-122.64341 38.01206, -122.64343 38...\n",
      "   link_id  q  r     t  eid                                           geometry\n",
      "0        0  1  0  4.58    0  LINESTRING (-122.64457 38.01290, -122.64515 38...\n",
      "1        1  0  0  2.79    1  LINESTRING (-122.64457 38.01290, -122.64421 38...\n",
      "2        2  0  0  3.70    2  LINESTRING (-122.64341 38.01206, -122.64315 38...\n",
      "3        3  0  0  5.56    3  LINESTRING (-122.64341 38.01206, -122.64321 38...\n",
      "4        4  0  0  3.87    4  LINESTRING (-122.64341 38.01206, -122.64343 38...\n"
     ]
    },
    {
     "name": "stderr",
     "output_type": "stream",
     "text": [
      "/Users/barkha/opt/anaconda3/envs/capstone/lib/python3.8/site-packages/pyproj/crs/crs.py:53: FutureWarning: '+init=<authority>:<code>' syntax is deprecated. '<authority>:<code>' is the preferred initialization method. When making the change, be mindful of axis order changes: https://pyproj4.github.io/pyproj/stable/gotchas.html#axis-order-changes-in-proj-6\n",
      "  return _prepare_from_string(\" \".join(pjargs))\n",
      "/Users/barkha/opt/anaconda3/envs/capstone/lib/python3.8/site-packages/pyproj/crs/crs.py:53: FutureWarning: '+init=<authority>:<code>' syntax is deprecated. '<authority>:<code>' is the preferred initialization method. When making the change, be mindful of axis order changes: https://pyproj4.github.io/pyproj/stable/gotchas.html#axis-order-changes-in-proj-6\n",
      "  return _prepare_from_string(\" \".join(pjargs))\n"
     ]
    },
    {
     "name": "stdout",
     "output_type": "stream",
     "text": [
      "   link_id  q  r     t  eid                                           geometry\n",
      "0        0  1  0  4.58    0  LINESTRING (-122.64457 38.01290, -122.64515 38...\n",
      "1        1  0  0  2.79    1  LINESTRING (-122.64457 38.01290, -122.64421 38...\n",
      "2        2  0  0  3.70    2  LINESTRING (-122.64341 38.01206, -122.64315 38...\n",
      "3        3  0  0  5.56    3  LINESTRING (-122.64341 38.01206, -122.64321 38...\n",
      "4        4  0  0  3.87    4  LINESTRING (-122.64341 38.01206, -122.64343 38...\n",
      "   link_id  q  r     t  eid                                           geometry\n",
      "0        0  1  0  4.58    0  LINESTRING (-122.64457 38.01290, -122.64515 38...\n",
      "1        1  0  0  2.79    1  LINESTRING (-122.64457 38.01290, -122.64421 38...\n",
      "2        2  0  0  3.70    2  LINESTRING (-122.64341 38.01206, -122.64315 38...\n",
      "3        3  0  0  5.56    3  LINESTRING (-122.64341 38.01206, -122.64321 38...\n",
      "4        4  0  0  3.87    4  LINESTRING (-122.64341 38.01206, -122.64343 38...\n"
     ]
    },
    {
     "name": "stderr",
     "output_type": "stream",
     "text": [
      "/Users/barkha/opt/anaconda3/envs/capstone/lib/python3.8/site-packages/pyproj/crs/crs.py:53: FutureWarning: '+init=<authority>:<code>' syntax is deprecated. '<authority>:<code>' is the preferred initialization method. When making the change, be mindful of axis order changes: https://pyproj4.github.io/pyproj/stable/gotchas.html#axis-order-changes-in-proj-6\n",
      "  return _prepare_from_string(\" \".join(pjargs))\n",
      "/Users/barkha/opt/anaconda3/envs/capstone/lib/python3.8/site-packages/pyproj/crs/crs.py:53: FutureWarning: '+init=<authority>:<code>' syntax is deprecated. '<authority>:<code>' is the preferred initialization method. When making the change, be mindful of axis order changes: https://pyproj4.github.io/pyproj/stable/gotchas.html#axis-order-changes-in-proj-6\n",
      "  return _prepare_from_string(\" \".join(pjargs))\n"
     ]
    },
    {
     "name": "stdout",
     "output_type": "stream",
     "text": [
      "   link_id  q  r     t  eid                                           geometry\n",
      "0        0  1  0  4.58    0  LINESTRING (-122.64457 38.01290, -122.64515 38...\n",
      "1        1  0  0  2.79    1  LINESTRING (-122.64457 38.01290, -122.64421 38...\n",
      "2        2  0  0  3.70    2  LINESTRING (-122.64341 38.01206, -122.64315 38...\n",
      "3        3  0  0  5.56    3  LINESTRING (-122.64341 38.01206, -122.64321 38...\n",
      "4        4  0  0  3.87    4  LINESTRING (-122.64341 38.01206, -122.64343 38...\n",
      "   link_id  q  r     t  eid                                           geometry\n",
      "0        0  1  0  4.58    0  LINESTRING (-122.64457 38.01290, -122.64515 38...\n",
      "1        1  0  0  2.79    1  LINESTRING (-122.64457 38.01290, -122.64421 38...\n",
      "2        2  0  0  3.70    2  LINESTRING (-122.64341 38.01206, -122.64315 38...\n",
      "3        3  0  0  5.56    3  LINESTRING (-122.64341 38.01206, -122.64321 38...\n",
      "4        4  0  0  3.87    4  LINESTRING (-122.64341 38.01206, -122.64343 38...\n"
     ]
    },
    {
     "name": "stderr",
     "output_type": "stream",
     "text": [
      "/Users/barkha/opt/anaconda3/envs/capstone/lib/python3.8/site-packages/pyproj/crs/crs.py:53: FutureWarning: '+init=<authority>:<code>' syntax is deprecated. '<authority>:<code>' is the preferred initialization method. When making the change, be mindful of axis order changes: https://pyproj4.github.io/pyproj/stable/gotchas.html#axis-order-changes-in-proj-6\n",
      "  return _prepare_from_string(\" \".join(pjargs))\n",
      "/Users/barkha/opt/anaconda3/envs/capstone/lib/python3.8/site-packages/pyproj/crs/crs.py:53: FutureWarning: '+init=<authority>:<code>' syntax is deprecated. '<authority>:<code>' is the preferred initialization method. When making the change, be mindful of axis order changes: https://pyproj4.github.io/pyproj/stable/gotchas.html#axis-order-changes-in-proj-6\n",
      "  return _prepare_from_string(\" \".join(pjargs))\n"
     ]
    },
    {
     "name": "stdout",
     "output_type": "stream",
     "text": [
      "   link_id  q  r     t  eid                                           geometry\n",
      "0        0  1  0  4.58    0  LINESTRING (-122.64457 38.01290, -122.64515 38...\n",
      "1        1  0  0  2.79    1  LINESTRING (-122.64457 38.01290, -122.64421 38...\n",
      "2        2  0  0  3.70    2  LINESTRING (-122.64341 38.01206, -122.64315 38...\n",
      "3        3  0  0  5.56    3  LINESTRING (-122.64341 38.01206, -122.64321 38...\n",
      "4        4  0  0  3.87    4  LINESTRING (-122.64341 38.01206, -122.64343 38...\n",
      "   link_id  q  r     t  eid                                           geometry\n",
      "0        0  1  0  4.58    0  LINESTRING (-122.64457 38.01290, -122.64515 38...\n",
      "1        1  0  0  2.79    1  LINESTRING (-122.64457 38.01290, -122.64421 38...\n",
      "2        2  0  0  3.70    2  LINESTRING (-122.64341 38.01206, -122.64315 38...\n",
      "3        3  0  0  5.56    3  LINESTRING (-122.64341 38.01206, -122.64321 38...\n",
      "4        4  0  0  3.87    4  LINESTRING (-122.64341 38.01206, -122.64343 38...\n"
     ]
    },
    {
     "name": "stderr",
     "output_type": "stream",
     "text": [
      "/Users/barkha/opt/anaconda3/envs/capstone/lib/python3.8/site-packages/pyproj/crs/crs.py:53: FutureWarning: '+init=<authority>:<code>' syntax is deprecated. '<authority>:<code>' is the preferred initialization method. When making the change, be mindful of axis order changes: https://pyproj4.github.io/pyproj/stable/gotchas.html#axis-order-changes-in-proj-6\n",
      "  return _prepare_from_string(\" \".join(pjargs))\n",
      "/Users/barkha/opt/anaconda3/envs/capstone/lib/python3.8/site-packages/pyproj/crs/crs.py:53: FutureWarning: '+init=<authority>:<code>' syntax is deprecated. '<authority>:<code>' is the preferred initialization method. When making the change, be mindful of axis order changes: https://pyproj4.github.io/pyproj/stable/gotchas.html#axis-order-changes-in-proj-6\n",
      "  return _prepare_from_string(\" \".join(pjargs))\n"
     ]
    },
    {
     "name": "stdout",
     "output_type": "stream",
     "text": [
      "   link_id  q  r     t  eid                                           geometry\n",
      "0        0  1  0  4.58    0  LINESTRING (-122.64457 38.01290, -122.64515 38...\n",
      "1        1  0  0  2.79    1  LINESTRING (-122.64457 38.01290, -122.64421 38...\n",
      "2        2  0  0  3.70    2  LINESTRING (-122.64341 38.01206, -122.64315 38...\n",
      "3        3  0  0  5.56    3  LINESTRING (-122.64341 38.01206, -122.64321 38...\n",
      "4        4  0  0  3.87    4  LINESTRING (-122.64341 38.01206, -122.64343 38...\n",
      "   link_id  q  r     t  eid                                           geometry\n",
      "0        0  1  0  4.58    0  LINESTRING (-122.64457 38.01290, -122.64515 38...\n",
      "1        1  0  0  2.79    1  LINESTRING (-122.64457 38.01290, -122.64421 38...\n",
      "2        2  0  0  3.70    2  LINESTRING (-122.64341 38.01206, -122.64315 38...\n",
      "3        3  0  0  5.56    3  LINESTRING (-122.64341 38.01206, -122.64321 38...\n",
      "4        4  0  0  3.87    4  LINESTRING (-122.64341 38.01206, -122.64343 38...\n"
     ]
    },
    {
     "name": "stderr",
     "output_type": "stream",
     "text": [
      "/Users/barkha/opt/anaconda3/envs/capstone/lib/python3.8/site-packages/pyproj/crs/crs.py:53: FutureWarning: '+init=<authority>:<code>' syntax is deprecated. '<authority>:<code>' is the preferred initialization method. When making the change, be mindful of axis order changes: https://pyproj4.github.io/pyproj/stable/gotchas.html#axis-order-changes-in-proj-6\n",
      "  return _prepare_from_string(\" \".join(pjargs))\n",
      "/Users/barkha/opt/anaconda3/envs/capstone/lib/python3.8/site-packages/pyproj/crs/crs.py:53: FutureWarning: '+init=<authority>:<code>' syntax is deprecated. '<authority>:<code>' is the preferred initialization method. When making the change, be mindful of axis order changes: https://pyproj4.github.io/pyproj/stable/gotchas.html#axis-order-changes-in-proj-6\n",
      "  return _prepare_from_string(\" \".join(pjargs))\n"
     ]
    },
    {
     "name": "stdout",
     "output_type": "stream",
     "text": [
      "   link_id  q  r     t  eid                                           geometry\n",
      "0        0  1  0  4.58    0  LINESTRING (-122.64457 38.01290, -122.64515 38...\n",
      "1        1  0  0  2.79    1  LINESTRING (-122.64457 38.01290, -122.64421 38...\n",
      "2        2  0  0  3.70    2  LINESTRING (-122.64341 38.01206, -122.64315 38...\n",
      "3        3  0  0  5.56    3  LINESTRING (-122.64341 38.01206, -122.64321 38...\n",
      "4        4  0  0  3.87    4  LINESTRING (-122.64341 38.01206, -122.64343 38...\n",
      "   link_id  q  r     t  eid                                           geometry\n",
      "0        0  1  0  4.58    0  LINESTRING (-122.64457 38.01290, -122.64515 38...\n",
      "1        1  0  0  2.79    1  LINESTRING (-122.64457 38.01290, -122.64421 38...\n",
      "2        2  0  0  3.70    2  LINESTRING (-122.64341 38.01206, -122.64315 38...\n",
      "3        3  0  0  5.56    3  LINESTRING (-122.64341 38.01206, -122.64321 38...\n",
      "4        4  0  0  3.87    4  LINESTRING (-122.64341 38.01206, -122.64343 38...\n"
     ]
    },
    {
     "name": "stderr",
     "output_type": "stream",
     "text": [
      "/Users/barkha/opt/anaconda3/envs/capstone/lib/python3.8/site-packages/pyproj/crs/crs.py:53: FutureWarning: '+init=<authority>:<code>' syntax is deprecated. '<authority>:<code>' is the preferred initialization method. When making the change, be mindful of axis order changes: https://pyproj4.github.io/pyproj/stable/gotchas.html#axis-order-changes-in-proj-6\n",
      "  return _prepare_from_string(\" \".join(pjargs))\n",
      "/Users/barkha/opt/anaconda3/envs/capstone/lib/python3.8/site-packages/pyproj/crs/crs.py:53: FutureWarning: '+init=<authority>:<code>' syntax is deprecated. '<authority>:<code>' is the preferred initialization method. When making the change, be mindful of axis order changes: https://pyproj4.github.io/pyproj/stable/gotchas.html#axis-order-changes-in-proj-6\n",
      "  return _prepare_from_string(\" \".join(pjargs))\n"
     ]
    },
    {
     "name": "stdout",
     "output_type": "stream",
     "text": [
      "   link_id  q  r     t  eid                                           geometry\n",
      "0        0  1  0  4.58    0  LINESTRING (-122.64457 38.01290, -122.64515 38...\n",
      "1        1  0  0  2.79    1  LINESTRING (-122.64457 38.01290, -122.64421 38...\n",
      "2        2  0  0  3.70    2  LINESTRING (-122.64341 38.01206, -122.64315 38...\n",
      "3        3  0  0  5.56    3  LINESTRING (-122.64341 38.01206, -122.64321 38...\n",
      "4        4  0  0  3.87    4  LINESTRING (-122.64341 38.01206, -122.64343 38...\n",
      "   link_id  q  r     t  eid                                           geometry\n",
      "0        0  1  0  4.58    0  LINESTRING (-122.64457 38.01290, -122.64515 38...\n",
      "1        1  0  0  2.79    1  LINESTRING (-122.64457 38.01290, -122.64421 38...\n",
      "2        2  0  0  3.70    2  LINESTRING (-122.64341 38.01206, -122.64315 38...\n",
      "3        3  0  0  5.56    3  LINESTRING (-122.64341 38.01206, -122.64321 38...\n",
      "4        4  0  0  3.87    4  LINESTRING (-122.64341 38.01206, -122.64343 38...\n"
     ]
    },
    {
     "name": "stderr",
     "output_type": "stream",
     "text": [
      "/Users/barkha/opt/anaconda3/envs/capstone/lib/python3.8/site-packages/pyproj/crs/crs.py:53: FutureWarning: '+init=<authority>:<code>' syntax is deprecated. '<authority>:<code>' is the preferred initialization method. When making the change, be mindful of axis order changes: https://pyproj4.github.io/pyproj/stable/gotchas.html#axis-order-changes-in-proj-6\n",
      "  return _prepare_from_string(\" \".join(pjargs))\n",
      "/Users/barkha/opt/anaconda3/envs/capstone/lib/python3.8/site-packages/pyproj/crs/crs.py:53: FutureWarning: '+init=<authority>:<code>' syntax is deprecated. '<authority>:<code>' is the preferred initialization method. When making the change, be mindful of axis order changes: https://pyproj4.github.io/pyproj/stable/gotchas.html#axis-order-changes-in-proj-6\n",
      "  return _prepare_from_string(\" \".join(pjargs))\n"
     ]
    },
    {
     "name": "stdout",
     "output_type": "stream",
     "text": [
      "   link_id  q  r     t  eid                                           geometry\n",
      "0        0  1  0  4.58    0  LINESTRING (-122.64457 38.01290, -122.64515 38...\n",
      "1        1  0  0  2.79    1  LINESTRING (-122.64457 38.01290, -122.64421 38...\n",
      "2        2  0  0  3.70    2  LINESTRING (-122.64341 38.01206, -122.64315 38...\n",
      "3        3  0  0  5.56    3  LINESTRING (-122.64341 38.01206, -122.64321 38...\n",
      "4        4  0  0  3.87    4  LINESTRING (-122.64341 38.01206, -122.64343 38...\n",
      "   link_id  q  r     t  eid                                           geometry\n",
      "0        0  1  0  4.58    0  LINESTRING (-122.64457 38.01290, -122.64515 38...\n",
      "1        1  0  0  2.79    1  LINESTRING (-122.64457 38.01290, -122.64421 38...\n",
      "2        2  0  0  3.70    2  LINESTRING (-122.64341 38.01206, -122.64315 38...\n",
      "3        3  0  0  5.56    3  LINESTRING (-122.64341 38.01206, -122.64321 38...\n",
      "4        4  0  0  3.87    4  LINESTRING (-122.64341 38.01206, -122.64343 38...\n"
     ]
    },
    {
     "name": "stderr",
     "output_type": "stream",
     "text": [
      "/Users/barkha/opt/anaconda3/envs/capstone/lib/python3.8/site-packages/pyproj/crs/crs.py:53: FutureWarning: '+init=<authority>:<code>' syntax is deprecated. '<authority>:<code>' is the preferred initialization method. When making the change, be mindful of axis order changes: https://pyproj4.github.io/pyproj/stable/gotchas.html#axis-order-changes-in-proj-6\n",
      "  return _prepare_from_string(\" \".join(pjargs))\n"
     ]
    },
    {
     "name": "stdout",
     "output_type": "stream",
     "text": [
      "   link_id  q  r     t  eid                                           geometry\n",
      "0        0  1  0  4.58    0  LINESTRING (-122.64457 38.01290, -122.64515 38...\n",
      "1        1  0  0  2.79    1  LINESTRING (-122.64457 38.01290, -122.64421 38...\n",
      "2        2  0  0  3.70    2  LINESTRING (-122.64341 38.01206, -122.64315 38...\n",
      "3        3  0  0  5.56    3  LINESTRING (-122.64341 38.01206, -122.64321 38...\n",
      "4        4  0  0  3.87    4  LINESTRING (-122.64341 38.01206, -122.64343 38...\n"
     ]
    },
    {
     "name": "stderr",
     "output_type": "stream",
     "text": [
      "/Users/barkha/opt/anaconda3/envs/capstone/lib/python3.8/site-packages/pyproj/crs/crs.py:53: FutureWarning: '+init=<authority>:<code>' syntax is deprecated. '<authority>:<code>' is the preferred initialization method. When making the change, be mindful of axis order changes: https://pyproj4.github.io/pyproj/stable/gotchas.html#axis-order-changes-in-proj-6\n",
      "  return _prepare_from_string(\" \".join(pjargs))\n",
      "/Users/barkha/opt/anaconda3/envs/capstone/lib/python3.8/site-packages/pyproj/crs/crs.py:53: FutureWarning: '+init=<authority>:<code>' syntax is deprecated. '<authority>:<code>' is the preferred initialization method. When making the change, be mindful of axis order changes: https://pyproj4.github.io/pyproj/stable/gotchas.html#axis-order-changes-in-proj-6\n",
      "  return _prepare_from_string(\" \".join(pjargs))\n"
     ]
    },
    {
     "name": "stdout",
     "output_type": "stream",
     "text": [
      "   link_id  q  r     t  eid                                           geometry\n",
      "0        0  1  0  4.58    0  LINESTRING (-122.64457 38.01290, -122.64515 38...\n",
      "1        1  0  0  2.79    1  LINESTRING (-122.64457 38.01290, -122.64421 38...\n",
      "2        2  0  0  3.70    2  LINESTRING (-122.64341 38.01206, -122.64315 38...\n",
      "3        3  0  0  5.56    3  LINESTRING (-122.64341 38.01206, -122.64321 38...\n",
      "4        4  0  0  3.87    4  LINESTRING (-122.64341 38.01206, -122.64343 38...\n",
      "   link_id  q  r     t  eid                                           geometry\n",
      "0        0  1  0  4.58    0  LINESTRING (-122.64457 38.01290, -122.64515 38...\n",
      "1        1  0  0  2.79    1  LINESTRING (-122.64457 38.01290, -122.64421 38...\n",
      "2        2  0  0  3.70    2  LINESTRING (-122.64341 38.01206, -122.64315 38...\n",
      "3        3  0  0  5.56    3  LINESTRING (-122.64341 38.01206, -122.64321 38...\n",
      "4        4  0  0  3.87    4  LINESTRING (-122.64341 38.01206, -122.64343 38...\n"
     ]
    }
   ],
   "source": [
    "make_gif(memory=None)"
   ]
  },
  {
   "cell_type": "code",
   "execution_count": null,
   "id": "90ef99dc",
   "metadata": {},
   "outputs": [],
   "source": [
    "links_df = pd.read_csv('../woodacre_civic/network_inputs/osm_edges.csv')\n",
    "link_queue_duration = pd.read_csv('../woodacre_civic/simulation_outputs/link_stats/link_queue_duration_1000.csv')\n",
    "link_queue_duration = pd.merge(link_queue_duration, links_df[['eid', 'geometry']], left_on='link_id', right_on='eid', how='left')\n",
    "# link_queue_duration.head()\n",
    "# link_queue_duration.to_csv('projects/bolinas_stinson_beach/visualization_outputs/link_queue_duration/link_queue_duration_1000.csv', index=False)"
   ]
  },
  {
   "cell_type": "code",
   "execution_count": 26,
   "id": "2aafa0ee",
   "metadata": {},
   "outputs": [
    {
     "name": "stdout",
     "output_type": "stream",
     "text": [
      "/Users/barkha/opt/anaconda3/envs/capstone/bin/python\n"
     ]
    }
   ],
   "source": [
    "import sys\n",
    "import geopandas as gpd\n",
    "from geopandas import GeoSeries, GeoDataFrame\n",
    "print(sys.executable)"
   ]
  },
  {
   "cell_type": "code",
   "execution_count": 27,
   "id": "756b3a3a",
   "metadata": {},
   "outputs": [],
   "source": [
    "absolute_path = '/Users/barkha/Documents/UCB/Spring 2021/Capstone/Capstone/projects/woodacre_civic'\n",
    "network_file_edges = '/network_inputs/osm_edges_woodacre.csv'\n",
    "network_file_nodes = '/network_inputs/osm_nodes_woodacre.csv'\n",
    "simulation_outputs = '/simulation_outputs/link_stats'\n",
    "visualization_outputs = '/static/images/'"
   ]
  },
  {
   "cell_type": "code",
   "execution_count": 31,
   "id": "7e3484c8",
   "metadata": {},
   "outputs": [
    {
     "data": {
      "text/plain": [
       "<AxesSubplot:>"
      ]
     },
     "execution_count": 31,
     "metadata": {},
     "output_type": "execute_result"
    },
    {
     "data": {
      "image/png": "[encoded data removed]",
      "text/plain": [
       "<Figure size 432x288 with 1 Axes>"
      ]
     },
     "metadata": {
      "needs_background": "light"
     },
     "output_type": "display_data"
    }
   ],
   "source": [
    "links_nodes = pd.read_csv(absolute_path + network_file_nodes)\n",
    "# from shapely import wkt\n",
    "\n",
    "links_nodes['geometry'] = links_nodes['geometry'].apply(loads)\n",
    "gdf = gpd.GeoDataFrame(links_nodes, crs='epsg:4326')\n",
    "gdf.plot()"
   ]
  },
  {
   "cell_type": "code",
   "execution_count": 38,
   "id": "5e6cf97a",
   "metadata": {},
   "outputs": [],
   "source": [
    "def make_img(t=0, memory=None):\n",
    "    \n",
    "    ### Get edge veh counts\n",
    "    links_nodes = pd.read_csv(absolute_path + network_file_nodes)\n",
    "    links_df = pd.read_csv(absolute_path + network_file_edges)\n",
    "    link_queue_duration = pd.read_csv(absolute_path + simulation_outputs + '/link_stats_test_t{}.csv'.format(t))\n",
    "    link_queue_duration = pd.merge(link_queue_duration, links_df[['eid', 'geometry']], left_on='link_id',\n",
    "                                   right_on='eid', how='left')\n",
    "    \n",
    "    road_gdf = gpd.GeoDataFrame(link_queue_duration,\n",
    "                                crs={'init': 'epsg:4326'},\n",
    "                                geometry=link_queue_duration['geometry'].map(shapely.wkt.loads))\n",
    "\n",
    "    links_nodes['geometry'] = links_nodes['geometry'].apply(loads)\n",
    "    gdf = gpd.GeoDataFrame(links_nodes, crs='epsg:4326')\n",
    "    \n",
    "    fig = plt.figure(figsize=(10, 10))\n",
    "   \n",
    "    ax1 = fig.add_axes([0.05, 0, 0.9, 0.9])\n",
    "    gdf.plot(ax=ax1)\n",
    "    road_plot = road_gdf.plot(ax=ax1, column='q')\n",
    "    fig.text(0.5, 0.85, '{} sec into evacuation'.format(t), fontsize=30, ha='center', va='center')\n",
    "#     plt.savefig(absolute_path + visualization_outputs + 'veh_loc_t{}.png'.format(t), transparent=True)\n",
    "    plt.show()\n",
    "    plt.close()\n",
    "    return memory"
   ]
  },
  {
   "cell_type": "code",
   "execution_count": 39,
   "id": "3920150a",
   "metadata": {},
   "outputs": [
    {
     "name": "stderr",
     "output_type": "stream",
     "text": [
      "/Users/barkha/opt/anaconda3/envs/capstone/lib/python3.8/site-packages/pyproj/crs/crs.py:53: FutureWarning: '+init=<authority>:<code>' syntax is deprecated. '<authority>:<code>' is the preferred initialization method. When making the change, be mindful of axis order changes: https://pyproj4.github.io/pyproj/stable/gotchas.html#axis-order-changes-in-proj-6\n",
      "  return _prepare_from_string(\" \".join(pjargs))\n"
     ]
    },
    {
     "data": {
      "image/png": "[encoded data removed]",
      "text/plain": [
       "<Figure size 720x720 with 1 Axes>"
      ]
     },
     "metadata": {
      "needs_background": "light"
     },
     "output_type": "display_data"
    }
   ],
   "source": [
    "make_img(t=1)"
   ]
  },
  {
   "cell_type": "code",
   "execution_count": 35,
   "id": "f3c4a9c5",
   "metadata": {},
   "outputs": [],
   "source": [
    "def Cumulative(lists):\n",
    "    length = len(lists)\n",
    "    cu_list = [sum(lists[0:x:1]) for x in range(0, length+1)]\n",
    "#     print(cu_list[1:])\n",
    "    return cu_list[1:]"
   ]
  },
  {
   "cell_type": "code",
   "execution_count": 54,
   "id": "a6b48194",
   "metadata": {},
   "outputs": [
    {
     "name": "stdout",
     "output_type": "stream",
     "text": [
      "[261, 322, 323, 325, 328, 332, 338, 345, 353, 361, 369, 377, 385, 393, 401, 409, 417, 425, 433, 441, 449, 457, 465, 473, 481, 489, 497, 505, 513, 521, 529, 537, 545, 553, 561, 569, 577, 585, 593, 601, 609, 617, 625, 633, 641, 649, 657, 665, 673, 681, 689, 697, 705, 713, 721, 729, 738, 747, 756, 767, 779, 792, 805, 819, 833, 848, 865, 883, 901, 921, 941, 961, 982, 1005, 1030, 1056, 1084, 1114, 1145, 1177, 1209, 1242, 1275, 1308, 1343, 1380, 1418, 1456, 1496, 1537, 1579, 1623, 1667, 1713, 1760, 1808, 1856, 1904, 1952, 2001, 2051, 2101, 2152, 2204, 2257, 2312, 2368, 2424, 2481, 2538, 2597, 2657, 2717, 2779, 2841, 2903, 2967, 3031, 3096, 3162, 3229, 3297, 3365, 3434, 3505, 3577, 3649, 3721, 3794, 3868, 3942, 4017, 4092, 4168, 4246, 4325, 4405, 4486, 4567, 4648, 4730, 4813, 4897, 4982, 5068, 5155, 5243, 5332, 5423, 5514, 5606, 5698, 5790, 5884, 5979, 6076, 6174, 6273, 6373, 6474, 6577, 6682, 6788, 6894, 7000, 7106, 7213, 7321, 7430, 7539, 7649, 7760, 7872, 7984, 8096, 8208, 8322, 8437, 8553, 8669, 8787, 8906, 9026, 9147, 9270, 9394, 9518, 9643, 9768, 9894, 10020, 10147, 10275, 10404, 10534, 10665, 10798, 10932, 11067, 11202, 11339, 11476, 11613, 11750, 11887, 12024, 12161, 12298, 12436, 12575, 12715, 12856, 12998, 13140, 13283, 13426, 13570, 13715, 13861, 14009, 14158, 14307, 14457, 14607, 14757, 14907, 15057, 15207, 15357, 15507, 15657, 15808, 15961, 16114, 16267, 16421, 16576, 16732, 16888, 17045, 17202, 17359, 17516, 17673, 17830, 17987, 18144, 18301, 18458, 18615, 18772, 18929, 19086, 19243, 19400, 19557, 19714, 19871, 20028, 20185, 20342, 20499, 20656, 20813, 20970, 21127, 21284, 21441, 21598, 21755, 21912, 22069, 22226, 22383, 22540, 22697, 22854, 23011, 23168, 23325, 23482, 23639, 23796, 23953, 24110, 24266, 24423, 24580, 24736, 24893, 25049, 25206, 25363, 25520, 25677, 25834, 25991, 26148, 26305, 26462, 26619, 26776, 26933, 27090, 27247, 27404, 27561, 27718, 27875, 28032, 28189, 28346, 28503, 28660, 28817, 28974, 29131, 29288, 29445, 29602, 29759, 29916, 30073, 30230, 30387, 30544, 30701, 30858, 31015, 31172, 31329, 31486, 31643, 31800, 31957, 32114, 32271, 32428, 32584, 32741, 32898, 33054, 33211, 33367, 33524, 33680, 33836, 33993, 34149, 34306, 34463, 34618, 34774, 34931, 35087, 35243, 35398, 35554, 35709, 35863, 36016, 36169, 36323, 36477, 36632, 36789, 36945, 37100, 37256, 37413, 37568, 37722, 37876, 38029, 38183, 38336, 38489, 38642, 38796, 38951, 39106, 39261, 39416, 39572, 39728, 39884, 40040, 40195, 40351, 40508, 40664, 40820, 40975, 41131, 41288, 41444, 41601, 41758, 41913, 42070]\n"
     ]
    },
    {
     "data": {
      "image/png": "[encoded data removed]",
      "text/plain": [
       "<Figure size 1080x720 with 1 Axes>"
      ]
     },
     "metadata": {
      "needs_background": "light"
     },
     "output_type": "display_data"
    }
   ],
   "source": [
    "absolute_path = '/Users/barkha/Documents/UCB/Spring 2021/Capstone/Capstone/projects/woodacre_civic'\n",
    "t_list = {}\n",
    "fig, ax = plt.subplots(figsize=(15, 10))\n",
    "for t in range(0, 800, 2):\n",
    "    n_stats = pd.read_csv(absolute_path + '/simulation_outputs/node_stats/node_agent_cnts_test_t{}.csv'.format(t))\n",
    "    # print(n_stats['node_id'])\n",
    "#     print(n_stats[n_stats.node_id == 111]['cnt'])\n",
    "    t_list[t] = list(n_stats[n_stats.node_id == 111]['cnt'])[0]\n",
    "#     print(t_list[t] )\n",
    "t_list = list(t_list.values())\n",
    "t_list_total = Cumulative(t_list)\n",
    "print(t_list_total)\n",
    "x = list(range(0, 800, 2))\n",
    "x = map(lambda m: m/60, x)\n",
    "plt.plot(list(x), t_list, color='red', linestyle='--', label='arrived')\n",
    "plt.gca().spines['right'].set_color('none')\n",
    "plt.gca().spines['top'].set_color('none')\n",
    "plt.xlim([0, 30])\n",
    "plt.ylim([0, 500])\n",
    "plt.xlabel('minutes')\n",
    "plt.ylabel('Vehicles informed/arrived')\n",
    "plt.legend()\n",
    "#     plt.savefig(absolute_path + visualization_outputs + 'demand.png', transparent=True)\n",
    "plt.show()\n",
    "#     plt.close()"
   ]
  },
  {
   "cell_type": "code",
   "execution_count": null,
   "id": "08fd4897",
   "metadata": {},
   "outputs": [],
   "source": []
  }
 ],
 "metadata": {
  "kernelspec": {
   "display_name": "Python 3",
   "language": "python",
   "name": "python3"
  },
  "language_info": {
   "codemirror_mode": {
    "name": "ipython",
    "version": 3
   },
   "file_extension": ".py",
   "mimetype": "text/x-python",
   "name": "python",
   "nbconvert_exporter": "python",
   "pygments_lexer": "ipython3",
   "version": "3.8.8"
  }
 },
 "nbformat": 4,
 "nbformat_minor": 5
}
